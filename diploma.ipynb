{
 "cells": [
  {
   "cell_type": "code",
   "execution_count": 1,
   "metadata": {},
   "outputs": [],
   "source": [
    "import numpy as np\n",
    "import pandas as pd\n",
    "import random"
   ]
  },
  {
   "cell_type": "code",
   "execution_count": 2,
   "metadata": {},
   "outputs": [],
   "source": [
    "df = pd.read_spss('ougd_2018_work.sav')"
   ]
  },
  {
   "cell_type": "code",
   "execution_count": 3,
   "metadata": {},
   "outputs": [],
   "source": [
    "df.rename(columns={'rik_fa_1': 'year',\n",
    "                   'code_fam': 'household_code',\n",
    "                   'w_q': 'statistical_weight',\n",
    "                   'tp_ns_p': 'settlement_type',\n",
    "                   'cod_obl': 'region',\n",
    "                   'hsize': 'number_of_people',\n",
    "                   'type_dom': 'household_type',\n",
    "                   'h_ch': 'number_of_children',\n",
    "                   'h_elder': 'number_of_incapacitated',\n",
    "                   'house': 'house_type',\n",
    "                   'stotal': 'house_area', \n",
    "                   'heating': 'central_heating', \n",
    "                   'heatind': 'individual_heating',\n",
    "                   'h045': 'energy_costs',\n",
    "                   'Q_refr': 'refrigerator',\n",
    "                   'Q_froz': 'freezer',\n",
    "                   'Q_wash': 'washing_machine',\n",
    "                   'Q_vacum': 'vacuum_cleaner',\n",
    "                   'Q_tv_cl': 'colour_TV',\n",
    "                   'Q_mcwav': 'microwave',\n",
    "                   'Q_combi': 'food_processor',\n",
    "                   'Q_condi': 'air_conditioning',\n",
    "                   'Q_crocer': 'dishwasher',\n",
    "                   'Q_compu': 'PC',\n",
    "                   'Q_noutb': 'laptop',\n",
    "                   'Q_iron': 'iron',\n",
    "                   'gaskol': 'gas_station',\n",
    "                   'gascentr': 'centralized_gas',\n",
    "                   'gasbal': 'bottled_gas',\n",
    "                   'elektrpl': 'electric_stove'\n",
    "                    }, \n",
    "          inplace=True)"
   ]
  },
  {
   "cell_type": "code",
   "execution_count": 4,
   "metadata": {},
   "outputs": [],
   "source": [
    "change_household_type = {\"домогосподарство з дiтьми\":1, \n",
    "                         \"домогосподарство без дiтей\":2}\n",
    "\n",
    "change_house_type = {\"окрема квартира\":1, \n",
    "                    \"індивідуальний будинок\":2,\n",
    "                    \"частина індивідуального будинку\":3,\n",
    "                    \"інше\":4}\n",
    "\n",
    "change_house_area = {\"до 40 м кв\":1, \n",
    "                    \"40,01 - 60,0 м кв\":2,\n",
    "                    \"60,01 - 80,0 м кв\":3,\n",
    "                    \"понад 80,01 м кв\":4}\n",
    "\n",
    "change_central_heating = {\"так\":1, \n",
    "                         \"ні\":2,\n",
    "                         \"не знає, відмова від відповіді\":9}\n",
    "\n",
    "change_individual_heating = {\"так\":1, \n",
    "                             \"ні\":2, \n",
    "                             \"не знає, відмова від відповіді\":9}\n",
    "\n",
    "change_settlement_type = {\"Велике місто\":1, \n",
    "                          \"Мале місто\":2, \n",
    "                          \"Сільська місцевість\":9}\n",
    "\n",
    "change_electrical_appliances = {\"ні\":0, \n",
    "                                \"так\":1}\n",
    "\n",
    "change_gas = {\"так\":1, \n",
    "              \"ні\":2, \n",
    "              \"не знає, відмова від відповіді\":9}"
   ]
  },
  {
   "cell_type": "code",
   "execution_count": 5,
   "metadata": {},
   "outputs": [],
   "source": [
    "household_table = df[[\"household_type\", \"number_of_people\" , \"number_of_incapacitated\"]].copy(deep = True)\n",
    "\n",
    "household_table = household_table.replace({'household_type': change_household_type})\n",
    "\n",
    "household_table.fillna(value=0, inplace = True)\n",
    "\n",
    "household_table[\"retirees\"] = ((household_table.number_of_people == household_table.number_of_incapacitated) & \\\n",
    "                              (household_table.household_type == 2)).astype(int)\n",
    "household_table.loc[household_table.retirees == 1,'household_type'] = 3\n",
    "\n",
    "household_table = household_table.drop(labels=['retirees', 'number_of_people', 'number_of_incapacitated'], axis=1)"
   ]
  },
  {
   "cell_type": "code",
   "execution_count": 6,
   "metadata": {},
   "outputs": [],
   "source": [
    "heating_table = df[[\"central_heating\", \"individual_heating\", \"settlement_type\", \"house_type\"]].copy(deep = True)\n",
    "\n",
    "heating_table = heating_table.replace({'central_heating': change_central_heating,\n",
    "                                       'individual_heating': change_individual_heating,\n",
    "                                       'settlement_type': change_settlement_type,\n",
    "                                       'house_type': change_house_type})\n",
    "\n",
    "heating_table.fillna(value=0, inplace = True)\n",
    "\n",
    "heating_table[\"heating\"] = ((heating_table.central_heating == 2) & (heating_table.individual_heating == 2) & \\\n",
    "                            ((heating_table.house_type ==2) | (heating_table.house_type ==3) | \\\n",
    "                            ((heating_table.house_type == 4) & \\\n",
    "                            ((heating_table.settlement_type == 9) | (heating_table.settlement_type == 2))))).astype(int)\n",
    "\n",
    "heating_table.loc[heating_table.heating == 1,'heating'] = 2\n",
    "heating_table.loc[heating_table.heating == 0,'heating'] = 1\n",
    "\n",
    "heating_table.loc[heating_table.central_heating == 1,'heating'] = 1\n",
    "heating_table.loc[heating_table.individual_heating == 1,'heating'] = 2\n",
    "\n",
    "heating_table = heating_table.drop(labels=['central_heating', 'individual_heating', 'settlement_type', 'house_type'], axis=1)"
   ]
  },
  {
   "cell_type": "code",
   "execution_count": 7,
   "metadata": {},
   "outputs": [],
   "source": [
    "house_type_table = df[[\"house_type\"]].copy(deep = True)\n",
    "\n",
    "house_type_table = house_type_table.replace({'house_type': change_house_type})\n",
    "\n",
    "house_type_table.fillna(value=0, inplace = True)\n",
    "\n",
    "house_type_table.loc[house_type_table.house_type == 1,'house'] = 1\n",
    "house_type_table.loc[(house_type_table.house_type == 2) | (house_type_table.house_type == 3),'house'] = 2\n",
    "house_type_table.loc[house_type_table.house_type == 4,'house'] = 3\n",
    "\n",
    "house_type_table = house_type_table.drop(labels='house_type', axis=1)"
   ]
  },
  {
   "cell_type": "code",
   "execution_count": 8,
   "metadata": {},
   "outputs": [],
   "source": [
    "area_table = df[[\"house_area\"]].copy(deep = True)\n",
    "\n",
    "area_table = area_table.replace({'house_area': change_house_area})\n",
    "\n",
    "area_table.fillna(value=0, inplace = True)"
   ]
  },
  {
   "cell_type": "code",
   "execution_count": 9,
   "metadata": {},
   "outputs": [],
   "source": [
    "settlement_table = df[[\"settlement_type\"]].copy(deep = True)\n",
    "\n",
    "settlement_table = settlement_table.replace({'settlement_type': change_settlement_type})\n",
    "\n",
    "settlement_table.fillna(value=0, inplace = True)\n",
    "\n",
    "settlement_table.loc[(settlement_table.settlement_type == 1) | (settlement_table.settlement_type == 2),'settlement'] = 1\n",
    "settlement_table.loc[settlement_table.settlement_type == 9,'settlement'] = 2\n",
    "\n",
    "settlement_table = settlement_table.drop(labels='settlement_type', axis=1)"
   ]
  },
  {
   "cell_type": "code",
   "execution_count": 10,
   "metadata": {},
   "outputs": [],
   "source": [
    "people_table = df[[\"statistical_weight\", \"number_of_people\"]].copy(deep = True)\n",
    "\n",
    "people_table[\"total_number_of_people\"] = people_table['statistical_weight'] * people_table['number_of_people']\n",
    "\n",
    "people_table = people_table.drop(labels=['statistical_weight', 'number_of_people'], axis=1)"
   ]
  },
  {
   "cell_type": "code",
   "execution_count": 11,
   "metadata": {},
   "outputs": [],
   "source": [
    "energy_costs_table = df[[\"statistical_weight\", \"energy_costs\"]].copy(deep = True)\n",
    "\n",
    "energy_costs_table[\"total_energy_costs\"] = energy_costs_table['statistical_weight'] * energy_costs_table['energy_costs']\n",
    "\n",
    "energy_costs_table = energy_costs_table.drop(labels=['statistical_weight', 'energy_costs'], axis=1)"
   ]
  },
  {
   "cell_type": "code",
   "execution_count": 12,
   "metadata": {},
   "outputs": [],
   "source": [
    "electrical_appliances_table = df[[\"statistical_weight\", \"refrigerator\", \"freezer\", \n",
    "                                  \"washing_machine\", \"vacuum_cleaner\", \"colour_TV\", \n",
    "                                  \"microwave\", \"food_processor\", \"air_conditioning\", \n",
    "                                  \"dishwasher\", \"PC\", \"laptop\", \"iron\", \n",
    "                                  \"electric_stove\", \"gas_station\"]].copy(deep = True)\n",
    "\n",
    "electrical_appliances_table = electrical_appliances_table.replace({'refrigerator': change_electrical_appliances,\n",
    "                                                                   'freezer': change_electrical_appliances,\n",
    "                                                                   'washing_machine': change_electrical_appliances,\n",
    "                                                                   'vacuum_cleaner': change_electrical_appliances,\n",
    "                                                                   'colour_TV': change_electrical_appliances,\n",
    "                                                                   'microwave': change_electrical_appliances,\n",
    "                                                                   'food_processor': change_electrical_appliances,\n",
    "                                                                   'air_conditioning': change_electrical_appliances,\n",
    "                                                                   'dishwasher': change_electrical_appliances,\n",
    "                                                                   'PC': change_electrical_appliances,\n",
    "                                                                   'laptop': change_electrical_appliances,\n",
    "                                                                   'iron': change_electrical_appliances,\n",
    "                                                                   'electric_stove': change_gas,\n",
    "                                                                   'gas_station': change_gas})\n",
    "\n",
    "electrical_appliances_table.loc[(electrical_appliances_table.electric_stove == 2) | \\\n",
    "                                (electrical_appliances_table.electric_stove == 9),'electric_stove'] = 0\n",
    "electrical_appliances_table.loc[electrical_appliances_table.electric_stove == 1,'electric_stove'] = 1\n",
    "\n",
    "electrical_appliances_table.loc[(electrical_appliances_table.gas_station == 2) | \\\n",
    "                                (electrical_appliances_table.gas_station == 9),'gas_station'] = 0\n",
    "electrical_appliances_table.loc[electrical_appliances_table.gas_station == 1,'gas_station'] = 1\n",
    "\n",
    "\n",
    "electrical_appliances_table[\"total_gas_station\"] = electrical_appliances_table['statistical_weight'] * \\\n",
    "                                                    electrical_appliances_table['gas_station']\n",
    "electrical_appliances_table[\"total_electric_stove\"] = electrical_appliances_table['statistical_weight'] * \\\n",
    "                                                    electrical_appliances_table['electric_stove']\n",
    "electrical_appliances_table[\"total_refrigerator\"] = electrical_appliances_table['statistical_weight'] * \\\n",
    "                                                    electrical_appliances_table['refrigerator']\n",
    "electrical_appliances_table[\"total_freezer\"] = electrical_appliances_table['statistical_weight'] * \\\n",
    "                                               electrical_appliances_table['freezer']\n",
    "electrical_appliances_table[\"total_washing_machine\"] = electrical_appliances_table['statistical_weight'] * \\\n",
    "                                                       electrical_appliances_table['washing_machine']\n",
    "electrical_appliances_table[\"total_vacuum_cleaner\"] = electrical_appliances_table['statistical_weight'] * \\\n",
    "                                                      electrical_appliances_table['vacuum_cleaner']\n",
    "electrical_appliances_table[\"total_colour_TV\"] = electrical_appliances_table['statistical_weight'] * \\\n",
    "                                                 electrical_appliances_table['colour_TV']\n",
    "electrical_appliances_table[\"total_microwave\"] = electrical_appliances_table['statistical_weight'] * \\\n",
    "                                                 electrical_appliances_table['microwave']\n",
    "electrical_appliances_table[\"total_food_processor\"] = electrical_appliances_table['statistical_weight'] * \\\n",
    "                                                      electrical_appliances_table['food_processor']\n",
    "electrical_appliances_table[\"total_air_conditioning\"] = electrical_appliances_table['statistical_weight'] * \\\n",
    "                                                        electrical_appliances_table['air_conditioning']\n",
    "electrical_appliances_table[\"total_dishwasher\"] = electrical_appliances_table['statistical_weight'] * \\\n",
    "                                                  electrical_appliances_table['dishwasher']\n",
    "electrical_appliances_table[\"total_PC\"] = electrical_appliances_table['statistical_weight'] * \\\n",
    "                                          electrical_appliances_table['PC']\n",
    "electrical_appliances_table[\"total_laptop\"] = electrical_appliances_table['statistical_weight'] * \\\n",
    "                                              electrical_appliances_table['laptop']\n",
    "electrical_appliances_table[\"total_iron\"] = electrical_appliances_table['statistical_weight'] * \\\n",
    "                                            electrical_appliances_table['iron']\n",
    "\n",
    "electrical_appliances_table = electrical_appliances_table.drop(labels=['statistical_weight', 'refrigerator', 'freezer', \n",
    "                                                                       'washing_machine', 'vacuum_cleaner', 'colour_TV', \n",
    "                                                                       'microwave', 'food_processor', 'air_conditioning', \n",
    "                                                                       'dishwasher', 'PC', 'laptop', 'iron',\n",
    "                                                                       'electric_stove', 'gas_station'], axis=1)"
   ]
  },
  {
   "cell_type": "code",
   "execution_count": 13,
   "metadata": {},
   "outputs": [],
   "source": [
    "energy_table_0 = df[[\"statistical_weight\", \"centralized_gas\", \"bottled_gas\"]].copy(deep = True)\n",
    "\n",
    "energy_table_0 = energy_table_0.replace({'centralized_gas': change_gas,\n",
    "                                         'bottled_gas': change_gas})"
   ]
  },
  {
   "cell_type": "code",
   "execution_count": 14,
   "metadata": {},
   "outputs": [],
   "source": [
    "energy_table = pd.concat([energy_table_0.astype(int), house_type_table.astype(int), \n",
    "                          heating_table, settlement_table.astype(int)], axis = 1)"
   ]
  },
  {
   "cell_type": "code",
   "execution_count": 15,
   "metadata": {},
   "outputs": [],
   "source": [
    "energy_table.loc[(energy_table.heating == 1) | (energy_table.heating == 2),'electric_power'] = 1\n",
    "\n",
    "energy_table.loc[energy_table.heating == 1,'thermal_energy'] = 1\n",
    "energy_table.loc[energy_table.heating == 2,'thermal_energy'] = 0\n",
    "\n",
    "energy_table.loc[energy_table.centralized_gas == 1,'natural_gas'] = 1\n",
    "energy_table.loc[energy_table.centralized_gas == 2,'natural_gas'] = 0\n",
    "\n",
    "energy_table.loc[(energy_table.house == 2),'solid_fuel'] = 1\n",
    "energy_table.loc[(energy_table.house == 1) | (energy_table.house == 3),'solid_fuel'] = 0\n",
    "\n",
    "energy_table.loc[(energy_table.bottled_gas == 1),'liquefied_gas'] = 1 \n",
    "energy_table.loc[(energy_table.bottled_gas == 2),'liquefied_gas'] = 0\n",
    "\n",
    "energy_table.loc[(energy_table.house == 1) | (energy_table.house == 3),'biofuels'] = 0\n",
    "energy_table.loc[(energy_table.house == 2) & (energy_table.settlement == 1),'biofuels'] = 0\n",
    "energy_table.loc[(energy_table.house == 2) & (energy_table.settlement == 2),'biofuels'] = 1"
   ]
  },
  {
   "cell_type": "code",
   "execution_count": 16,
   "metadata": {},
   "outputs": [],
   "source": [
    "energy_table[\"total_electric_power\"] = energy_table['statistical_weight'] * energy_table['electric_power']\n",
    "energy_table[\"total_thermal_energy\"] = energy_table['statistical_weight'] * energy_table['thermal_energy']\n",
    "energy_table[\"total_natural_gas\"] = energy_table['statistical_weight'] * energy_table['natural_gas']\n",
    "energy_table[\"total_solid_fuel\"] = energy_table['statistical_weight'] * energy_table['solid_fuel']\n",
    "energy_table[\"total_liquefied_gas\"] = energy_table['statistical_weight'] * energy_table['liquefied_gas']\n",
    "energy_table[\"total_biofuels\"] = energy_table['statistical_weight'] * energy_table['biofuels']"
   ]
  },
  {
   "cell_type": "code",
   "execution_count": 17,
   "metadata": {},
   "outputs": [],
   "source": [
    "energy_table = energy_table.drop(labels=['centralized_gas', 'bottled_gas', 'house', 'heating', 'settlement',\n",
    "                                         'electric_power', 'thermal_energy', 'natural_gas', 'solid_fuel', \n",
    "                                         'liquefied_gas', 'biofuels', 'statistical_weight'], axis=1)"
   ]
  },
  {
   "cell_type": "code",
   "execution_count": 18,
   "metadata": {},
   "outputs": [],
   "source": [
    "category_first = pd.concat([household_table, house_type_table.astype(int), area_table.astype(int), \n",
    "                            heating_table, settlement_table.astype(int), people_table.astype(int),\n",
    "                            energy_costs_table.astype(float), electrical_appliances_table.astype(float),\n",
    "                            energy_table.astype(float)], axis = 1)"
   ]
  },
  {
   "cell_type": "code",
   "execution_count": 19,
   "metadata": {},
   "outputs": [],
   "source": [
    "df.household_type = category_first.household_type\n",
    "df.settlement_type = category_first.settlement\n",
    "df.house_type = category_first.house\n",
    "df.house_area = category_first.house_area\n",
    "\n",
    "df = df.drop(labels=['central_heating', 'individual_heating', 'refrigerator', \n",
    "                     'freezer', 'washing_machine', 'vacuum_cleaner', \n",
    "                     'colour_TV', 'microwave', 'food_processor', \n",
    "                     'air_conditioning', 'dishwasher', 'PC', \n",
    "                     'laptop', 'iron', 'electric_stove'], axis=1)\n",
    "\n",
    "df_1 = pd.concat([df, heating_table, people_table.astype(int), energy_costs_table, \n",
    "                  electrical_appliances_table, energy_table.astype(float)], axis = 1)"
   ]
  },
  {
   "cell_type": "code",
   "execution_count": 20,
   "metadata": {},
   "outputs": [
    {
     "name": "stderr",
     "output_type": "stream",
     "text": [
      "C:\\Users\\Vadim\\anaconda3\\lib\\site-packages\\ipykernel_launcher.py:3: FutureWarning: Indexing with multiple keys (implicitly converted to a tuple of keys) will be deprecated, use a list instead.\n",
      "  This is separate from the ipykernel package so we can avoid doing imports until\n"
     ]
    }
   ],
   "source": [
    "category_second = df_1.groupby(['household_type', 'house_type', \n",
    "                                'house_area', 'heating', \n",
    "                                'settlement_type'])['statistical_weight', 'total_number_of_people', \n",
    "                                                    'total_energy_costs', 'total_refrigerator', \n",
    "                                                    'total_freezer', 'total_washing_machine', \n",
    "                                                    'total_vacuum_cleaner', 'total_colour_TV', \n",
    "                                                    'total_microwave', 'total_food_processor', \n",
    "                                                    'total_air_conditioning', 'total_dishwasher', \n",
    "                                                    'total_PC', 'total_laptop', 'total_iron',\n",
    "                                                    'total_electric_stove', 'total_electric_power',\n",
    "                                                    'total_thermal_energy', 'total_natural_gas',\n",
    "                                                    'total_solid_fuel', 'total_liquefied_gas',\n",
    "                                                    'total_biofuels', 'total_gas_station'].sum()"
   ]
  },
  {
   "cell_type": "code",
   "execution_count": 21,
   "metadata": {},
   "outputs": [],
   "source": [
    "number_of_households = df_1.groupby(['household_type', 'house_type', \n",
    "                                     'house_area', 'heating', 'settlement_type']).household_code.nunique().values"
   ]
  },
  {
   "cell_type": "code",
   "execution_count": 22,
   "metadata": {},
   "outputs": [],
   "source": [
    "category_second[\"number_of_households\"] = number_of_households"
   ]
  },
  {
   "cell_type": "code",
   "execution_count": 23,
   "metadata": {},
   "outputs": [],
   "source": [
    "category_second[\"category\"] = list(range(1,len(category_second) + 1))"
   ]
  },
  {
   "cell_type": "code",
   "execution_count": 24,
   "metadata": {},
   "outputs": [],
   "source": [
    "new_category = category_second.reset_index().set_index('category')"
   ]
  },
  {
   "cell_type": "code",
   "execution_count": 25,
   "metadata": {},
   "outputs": [],
   "source": [
    "new_category[\"smth\"] = ((new_category.number_of_households <= 10) & (new_category.settlement_type == 1)).astype(int)\n",
    "\n",
    "new_category.loc[new_category.smth == 1,'household_type'] = 11\n",
    "new_category.loc[new_category.smth == 1,'house_type'] = 11\n",
    "new_category.loc[new_category.smth == 1,'house_area'] = 11\n",
    "new_category.loc[new_category.smth == 1,'heating'] = 11\n",
    "\n",
    "new_category[\"smb\"] = ((new_category.number_of_households <= 10) & (new_category.settlement_type == 2)).astype(int)\n",
    "\n",
    "new_category.loc[new_category.smb == 1,'household_type'] = 22\n",
    "new_category.loc[new_category.smb == 1,'house_type'] = 22\n",
    "new_category.loc[new_category.smb == 1,'house_area'] = 22\n",
    "new_category.loc[new_category.smb == 1,'heating'] = 22\n",
    "\n",
    "new_category = new_category.drop(labels=['smth', 'smb'], axis=1)"
   ]
  },
  {
   "cell_type": "code",
   "execution_count": 26,
   "metadata": {},
   "outputs": [],
   "source": [
    "# new_category"
   ]
  },
  {
   "cell_type": "code",
   "execution_count": 27,
   "metadata": {},
   "outputs": [
    {
     "name": "stderr",
     "output_type": "stream",
     "text": [
      "C:\\Users\\Vadim\\anaconda3\\lib\\site-packages\\ipykernel_launcher.py:3: FutureWarning: Indexing with multiple keys (implicitly converted to a tuple of keys) will be deprecated, use a list instead.\n",
      "  This is separate from the ipykernel package so we can avoid doing imports until\n"
     ]
    }
   ],
   "source": [
    "new_category_2 = new_category.groupby(['household_type', 'house_type', \n",
    "                                       'house_area', 'heating', \n",
    "                                       'settlement_type'])['statistical_weight', 'total_number_of_people', \n",
    "                                                           'total_energy_costs', 'total_refrigerator', \n",
    "                                                           'total_freezer', 'total_washing_machine', \n",
    "                                                           'total_vacuum_cleaner', 'total_colour_TV', \n",
    "                                                           'total_microwave', 'total_food_processor', \n",
    "                                                           'total_air_conditioning', 'total_dishwasher', \n",
    "                                                           'total_PC', 'total_laptop', 'total_iron',\n",
    "                                                           'total_electric_stove', 'total_electric_power',\n",
    "                                                           'total_thermal_energy', 'total_natural_gas',\n",
    "                                                           'total_solid_fuel', 'total_liquefied_gas',\n",
    "                                                           'total_biofuels', 'total_gas_station'].sum()"
   ]
  },
  {
   "cell_type": "code",
   "execution_count": 28,
   "metadata": {},
   "outputs": [],
   "source": [
    "new_category_2[\"category\"] = list(range(1,len(new_category_2) + 1))\n",
    "\n",
    "new_category_3 = new_category_2.reset_index().set_index('category')"
   ]
  },
  {
   "cell_type": "code",
   "execution_count": 29,
   "metadata": {},
   "outputs": [],
   "source": [
    "new_category_3[\"total_energy_costs\"] = new_category_3['total_energy_costs'] / new_category_3['statistical_weight']\n",
    "new_category_3[\"total_refrigerator\"] = new_category_3['total_refrigerator'] / new_category_3['statistical_weight']\n",
    "new_category_3[\"total_freezer\"] = new_category_3['total_freezer'] / new_category_3['statistical_weight']\n",
    "new_category_3[\"total_washing_machine\"] = new_category_3['total_washing_machine'] / new_category_3['statistical_weight']\n",
    "new_category_3[\"total_vacuum_cleaner\"] = new_category_3['total_vacuum_cleaner'] / new_category_3['statistical_weight']\n",
    "new_category_3[\"total_colour_TV\"] = new_category_3['total_colour_TV'] / new_category_3['statistical_weight']\n",
    "new_category_3[\"total_microwave\"] = new_category_3['total_microwave'] / new_category_3['statistical_weight']\n",
    "new_category_3[\"total_food_processor\"] = new_category_3['total_food_processor'] / new_category_3['statistical_weight']\n",
    "new_category_3[\"total_air_conditioning\"] = new_category_3['total_air_conditioning'] / new_category_3['statistical_weight']\n",
    "new_category_3[\"total_dishwasher\"] = new_category_3['total_dishwasher'] / new_category_3['statistical_weight']\n",
    "new_category_3[\"total_PC\"] = new_category_3['total_PC'] / new_category_3['statistical_weight']\n",
    "new_category_3[\"total_laptop\"] = new_category_3['total_laptop'] / new_category_3['statistical_weight']\n",
    "new_category_3[\"total_iron\"] = new_category_3['total_iron'] / new_category_3['statistical_weight']\n",
    "new_category_3[\"total_electric_stove\"] = new_category_3['total_electric_stove'] / new_category_3['statistical_weight']\n",
    "new_category_3[\"total_electric_power\"] = new_category_3['total_electric_power'] / new_category_3['statistical_weight']\n",
    "new_category_3[\"total_thermal_energy\"] = new_category_3['total_thermal_energy'] / new_category_3['statistical_weight']\n",
    "new_category_3[\"total_natural_gas\"] = new_category_3['total_natural_gas'] / new_category_3['statistical_weight']\n",
    "new_category_3[\"total_solid_fuel\"] = new_category_3['total_solid_fuel'] / new_category_3['statistical_weight']\n",
    "new_category_3[\"total_liquefied_gas\"] = new_category_3['total_liquefied_gas'] / new_category_3['statistical_weight']\n",
    "new_category_3[\"total_biofuels\"] = new_category_3['total_biofuels'] / new_category_3['statistical_weight']\n",
    "new_category_3[\"total_gas_station\"] = new_category_3['total_gas_station'] / new_category_3['statistical_weight']"
   ]
  },
  {
   "cell_type": "code",
   "execution_count": 30,
   "metadata": {},
   "outputs": [],
   "source": [
    "# new_category_3 = new_category_3.drop(labels=['household_type', 'house_type', \n",
    "#                                              'house_area', 'heating', 'settlement_type'], axis=1)"
   ]
  },
  {
   "cell_type": "code",
   "execution_count": 31,
   "metadata": {},
   "outputs": [],
   "source": [
    "# new_category_3"
   ]
  },
  {
   "cell_type": "code",
   "execution_count": 32,
   "metadata": {},
   "outputs": [],
   "source": [
    "new_category_4 = new_category_3.round({'total_energy_costs':2, 'total_refrigerator':2,\n",
    "                                       'total_freezer':2, 'total_washing_machine':2,\n",
    "                                       'total_vacuum_cleaner':2, 'total_colour_TV':2,\n",
    "                                       'total_microwave':2, 'total_food_processor':2,\n",
    "                                       'total_air_conditioning':2, 'total_dishwasher':2,\n",
    "                                       'total_PC':2, 'total_laptop':2,\n",
    "                                       'total_iron':2, 'total_electric_stove':2,\n",
    "                                       'total_electric_power':2, 'total_thermal_energy':2,\n",
    "                                       'total_natural_gas':2, 'total_solid_fuel':2,\n",
    "                                       'total_liquefied_gas':2, 'total_biofuels':2,\n",
    "                                       'total_gas_station':2})"
   ]
  },
  {
   "cell_type": "code",
   "execution_count": 33,
   "metadata": {},
   "outputs": [],
   "source": [
    "new_category_4.loc['Ukraine'] = [0, 0, 0, 0, 0, 0, 0, 0, 0, 0, 0, 0, 0, 0, 0, 0, 0, 0, 0, 0, 0, 0, 0, 0, 0, 0, 0, 0]\n",
    "\n",
    "new_category_4['cumsum_1'] = new_category_4['total_number_of_people'].cumsum()\n",
    "new_category_4['cumsum_2'] = new_category_4['total_energy_costs'].cumsum()\n",
    "new_category_4['cumsum_3'] = new_category_4['total_refrigerator'].cumsum()\n",
    "new_category_4['cumsum_4'] = new_category_4['total_freezer'].cumsum()\n",
    "new_category_4['cumsum_5'] = new_category_4['total_washing_machine'].cumsum()\n",
    "new_category_4['cumsum_6'] = new_category_4['total_vacuum_cleaner'].cumsum()\n",
    "new_category_4['cumsum_7'] = new_category_4['total_colour_TV'].cumsum()\n",
    "new_category_4['cumsum_8'] = new_category_4['total_microwave'].cumsum()\n",
    "new_category_4['cumsum_9'] = new_category_4['total_food_processor'].cumsum()\n",
    "new_category_4['cumsum_10'] = new_category_4['total_air_conditioning'].cumsum()\n",
    "new_category_4['cumsum_11'] = new_category_4['total_dishwasher'].cumsum()\n",
    "new_category_4['cumsum_12'] = new_category_4['total_PC'].cumsum()\n",
    "new_category_4['cumsum_13'] = new_category_4['total_laptop'].cumsum()\n",
    "new_category_4['cumsum_14'] = new_category_4['total_iron'].cumsum()\n",
    "new_category_4['cumsum_15'] = new_category_4['statistical_weight'].cumsum()\n",
    "new_category_4['cumsum_16'] = new_category_4['total_electric_stove'].cumsum()\n",
    "new_category_4['cumsum_17'] = new_category_4['total_electric_power'].cumsum()\n",
    "new_category_4['cumsum_18'] = new_category_4['total_thermal_energy'].cumsum()\n",
    "new_category_4['cumsum_19'] = new_category_4['total_natural_gas'].cumsum()\n",
    "new_category_4['cumsum_20'] = new_category_4['total_solid_fuel'].cumsum()\n",
    "new_category_4['cumsum_21'] = new_category_4['total_liquefied_gas'].cumsum()\n",
    "new_category_4['cumsum_22'] = new_category_4['total_biofuels'].cumsum()\n",
    "new_category_4['cumsum_23'] = new_category_4['total_gas_station'].cumsum()"
   ]
  },
  {
   "cell_type": "code",
   "execution_count": 34,
   "metadata": {},
   "outputs": [],
   "source": [
    "# new_category_4.iloc[56]"
   ]
  },
  {
   "cell_type": "code",
   "execution_count": 35,
   "metadata": {},
   "outputs": [],
   "source": [
    "new_category_4.loc[new_category_4.total_number_of_people == 0, 'total_number_of_people'] = 38549710\n",
    "\n",
    "new_category_4.loc[new_category_4.statistical_weight == 0 , 'statistical_weight'] = 14934921\n",
    "\n",
    "new_category_4.loc[new_category_4.total_energy_costs == 0, 'total_energy_costs'] = 449442.39\n",
    "\n",
    "new_category_4.loc[(new_category_4.total_refrigerator == 0) & \\\n",
    "                   (new_category_4.total_number_of_people == 38549710), 'total_refrigerator'] = 55.07 / 56\n",
    "\n",
    "new_category_4.loc[(new_category_4.total_freezer == 0) & \\\n",
    "                   (new_category_4.total_number_of_people == 38549710), 'total_freezer'] = 12.14 / 56\n",
    "\n",
    "new_category_4.loc[(new_category_4.total_washing_machine == 0) & \\\n",
    "                   (new_category_4.total_number_of_people == 38549710), 'total_washing_machine'] = 50.23 / 56\n",
    "\n",
    "new_category_4.loc[(new_category_4.total_vacuum_cleaner == 0) & \\\n",
    "                   (new_category_4.total_number_of_people == 38549710), 'total_vacuum_cleaner'] = 44.52 / 56\n",
    "\n",
    "new_category_4.loc[(new_category_4.total_colour_TV == 0) & \\\n",
    "                   (new_category_4.total_number_of_people == 38549710), 'total_colour_TV'] = 53.36 / 56\n",
    "\n",
    "new_category_4.loc[(new_category_4.total_microwave == 0) & \\\n",
    "                   (new_category_4.total_number_of_people == 38549710), 'total_microwave'] = 29.49 / 56\n",
    "\n",
    "new_category_4.loc[(new_category_4.total_food_processor == 0) & \\\n",
    "                   (new_category_4.total_number_of_people == 38549710), 'total_food_processor'] = 9.38 / 56\n",
    "\n",
    "new_category_4.loc[(new_category_4.total_air_conditioning == 0) & \\\n",
    "                   (new_category_4.total_number_of_people == 38549710), 'total_air_conditioning'] = 6.11 / 56\n",
    "\n",
    "new_category_4.loc[(new_category_4.total_dishwasher == 0) & \\\n",
    "                   (new_category_4.total_number_of_people == 38549710), 'total_dishwasher'] = 0.87 / 56\n",
    "\n",
    "new_category_4.loc[(new_category_4.total_PC == 0) & \\\n",
    "                   (new_category_4.total_number_of_people == 38549710), 'total_PC'] = 19.49 / 56\n",
    "\n",
    "new_category_4.loc[(new_category_4.total_laptop == 0) & \\\n",
    "                   (new_category_4.total_number_of_people == 38549710), 'total_laptop'] = 16.86 / 56\n",
    "\n",
    "new_category_4.loc[(new_category_4.total_iron == 0) & \\\n",
    "                   (new_category_4.total_number_of_people == 38549710), 'total_iron'] = 53.04 / 56\n",
    "\n",
    "new_category_4.loc[(new_category_4.total_electric_stove == 0) & \\\n",
    "                   (new_category_4.total_number_of_people == 38549710), 'total_electric_stove'] = 3 / 56\n",
    "\n",
    "new_category_4.loc[(new_category_4.total_electric_power == 0) & \\\n",
    "                   (new_category_4.total_number_of_people == 38549710), 'total_electric_power'] = 56 / 56\n",
    "\n",
    "new_category_4.loc[(new_category_4.total_thermal_energy == 0) & \\\n",
    "                   (new_category_4.total_number_of_people == 38549710), 'total_thermal_energy'] = 16.13 / 56\n",
    "\n",
    "new_category_4.loc[(new_category_4.total_natural_gas == 0) & \\\n",
    "                   (new_category_4.total_number_of_people == 38549710), 'total_natural_gas'] = 43.45 / 56\n",
    "\n",
    "new_category_4.loc[(new_category_4.total_solid_fuel == 0) & \\\n",
    "                   (new_category_4.total_number_of_people == 38549710), 'total_solid_fuel'] = 24.16 / 56\n",
    "\n",
    "new_category_4.loc[(new_category_4.total_liquefied_gas == 0) & \\\n",
    "                   (new_category_4.total_number_of_people == 38549710), 'total_liquefied_gas'] = 6.71 / 56\n",
    "\n",
    "new_category_4.loc[(new_category_4.total_biofuels == 0) & \\\n",
    "                   (new_category_4.total_number_of_people == 38549710), 'total_biofuels'] = 12.09 / 56\n",
    "\n",
    "new_category_4.loc[(new_category_4.total_gas_station == 0) & \\\n",
    "                   (new_category_4.total_number_of_people == 38549710), 'total_gas_station'] = 9.81 / 56"
   ]
  },
  {
   "cell_type": "code",
   "execution_count": 36,
   "metadata": {},
   "outputs": [],
   "source": [
    "new_category_4 = new_category_4.drop(labels=['cumsum_1', 'cumsum_2', 'cumsum_3', 'cumsum_4', 'cumsum_5', \n",
    "                                             'cumsum_6', 'cumsum_7', 'cumsum_8', 'cumsum_9', 'cumsum_10',\n",
    "                                             'cumsum_11', 'cumsum_12', 'cumsum_13', 'cumsum_14', 'cumsum_15',\n",
    "                                             'cumsum_16', 'cumsum_17', 'cumsum_18', 'cumsum_19', 'cumsum_20',\n",
    "                                             'cumsum_21', 'cumsum_22', 'cumsum_23'], axis=1)"
   ]
  },
  {
   "cell_type": "code",
   "execution_count": 37,
   "metadata": {},
   "outputs": [],
   "source": [
    "new_category_4 = new_category_4.round({'total_energy_costs':2, 'total_refrigerator':2,\n",
    "                                       'total_freezer':2, 'total_washing_machine':2,\n",
    "                                       'total_vacuum_cleaner':2, 'total_colour_TV':2,\n",
    "                                       'total_microwave':2, 'total_food_processor':2,\n",
    "                                       'total_air_conditioning':2, 'total_dishwasher':2,\n",
    "                                       'total_PC':2, 'total_laptop':2,\n",
    "                                       'total_iron':2, 'total_electric_stove':2,\n",
    "                                       'total_electric_power':2, 'total_thermal_energy':2,\n",
    "                                       'total_natural_gas':2, 'total_solid_fuel':2,\n",
    "                                       'total_liquefied_gas':2, 'total_biofuels':2,\n",
    "                                       'total_gas_station': 2})\n",
    "\n",
    "new_category_4[['statistical_weight']] = new_category_4[['statistical_weight']].astype(int)\n",
    "\n",
    "new_category_4.rename(columns={'statistical_weight': 'total_number_of_households'}, inplace=True)"
   ]
  },
  {
   "cell_type": "code",
   "execution_count": 38,
   "metadata": {},
   "outputs": [],
   "source": [
    "new_category_4 = new_category_4.drop(labels=['total_number_of_people'], axis=1)"
   ]
  },
  {
   "cell_type": "code",
   "execution_count": 39,
   "metadata": {},
   "outputs": [],
   "source": [
    "new_category_4[\"energy_consumption_ttoe\"] = [407, 62, 1234, 362, 46, 807, 235, 112, 48, 146, \n",
    "                                                56, 312, 503, 438, 478, 520, 982, 164, 365, 70, \n",
    "                                                1338, 23, 305, 18, 672, 128, 21, 97, 49, 111, \n",
    "                                                351, 403, 404, 637, 491, 591, 87, 116, 36, 533, \n",
    "                                                128, 9, 263, 80, 60, 17, 54, 62, 157, 358, \n",
    "                                                229, 357, 201, 225, 89, 160, 16203]"
   ]
  },
  {
   "cell_type": "code",
   "execution_count": 40,
   "metadata": {},
   "outputs": [],
   "source": [
    "ALL_VALUES = set()\n",
    "\n",
    "def get_distinct_values(max_value: int, min_value: int = 0.1):\n",
    "  global ALL_VALUES\n",
    "  value = np.random.uniform(low=min_value, high=max_value)\n",
    "  while value in ALL_VALUES:\n",
    "    value = np.random.uniform(low=min_value, high=max_value)\n",
    "  ALL_VALUES.add(value)\n",
    "  return value"
   ]
  },
  {
   "cell_type": "code",
   "execution_count": 41,
   "metadata": {},
   "outputs": [],
   "source": [
    "def el_lighting_func(row):\n",
    "    if (row['total_refrigerator'] == 0) & (row['total_freezer'] == 0) & (row['total_washing_machine'] == 0) & \\\n",
    "       (row['total_vacuum_cleaner'] == 0) & (row['total_colour_TV'] == 0) & (row['total_microwave'] == 0) & \\\n",
    "       (row['total_food_processor'] == 0) & (row['total_air_conditioning'] == 0) & (row['total_dishwasher'] == 0) & \\\n",
    "       (row['total_PC'] == 0) & (row['total_laptop'] == 0) & (row['total_iron'] == 0) & (row['total_electric_stove'] == 0):\n",
    "        return 0\n",
    "    else:\n",
    "        return get_distinct_values(800, 5)\n",
    "    \n",
    "def el_water_heating_func(row):\n",
    "    if (row['total_electric_stove'] == 0):\n",
    "        return 0\n",
    "    else:\n",
    "        return get_distinct_values(170, 1)\n",
    "    \n",
    "def el_cooking_func(row):\n",
    "    if (row['total_microwave'] == 0) & (row['total_food_processor'] == 0) & (row['total_electric_stove'] == 0):\n",
    "        return 0\n",
    "    else:\n",
    "        return get_distinct_values(120, 1)"
   ]
  },
  {
   "cell_type": "code",
   "execution_count": 42,
   "metadata": {},
   "outputs": [],
   "source": [
    "new_category_4.loc[:, 'el_heating'] = new_category_4.heating.apply(lambda x: 0 if x == 1 or x == 11 \n",
    "                                                                   else get_distinct_values(80, 1))\n",
    "new_category_4.loc[new_category_4.total_number_of_households == 14934921, 'el_heating'] = 163.823\n",
    "ALL_VALUES.clear()\n",
    "\n",
    "new_category_4.loc[:, 'el_conditioning'] = new_category_4.total_air_conditioning.apply(lambda x: 0 if x == 0 \n",
    "                                                                                       else get_distinct_values(30, 1))\n",
    "new_category_4.loc[new_category_4.total_number_of_households == 14934921, 'el_conditioning'] = 71.093\n",
    "ALL_VALUES.clear()\n",
    "\n",
    "new_category_4['el_water_heating'] = new_category_4.apply(el_water_heating_func, axis=1)\n",
    "new_category_4.loc[new_category_4.total_number_of_households == 14934921, 'el_water_heating'] = 321.464\n",
    "ALL_VALUES.clear()\n",
    "\n",
    "new_category_4['el_cooking'] = new_category_4.apply(el_cooking_func, axis=1)\n",
    "new_category_4.loc[new_category_4.total_number_of_households == 14934921, 'el_cooking'] = 262.735\n",
    "ALL_VALUES.clear()\n",
    "\n",
    "new_category_4['el_lighting'] = new_category_4.apply(el_lighting_func, axis=1)\n",
    "new_category_4.loc[new_category_4.total_number_of_households == 14934921, 'el_lighting'] = 2265.703\n",
    "ALL_VALUES.clear()\n",
    "\n",
    "\n",
    "new_category_4.loc[:, 'el_other'] = new_category_4.settlement_type.apply(lambda x: 0 if x == 0 \n",
    "                                                                         else get_distinct_values(3))\n",
    "new_category_4.loc[new_category_4.total_number_of_households == 14934921, 'el_other'] = 6.182\n",
    "ALL_VALUES.clear()"
   ]
  },
  {
   "cell_type": "code",
   "execution_count": 43,
   "metadata": {},
   "outputs": [],
   "source": [
    "new_category_4.loc[:, 'th_heating'] = new_category_4.heating.apply(lambda x: 0 if x == 2 or x == 22 \n",
    "                                                                   else get_distinct_values(700, 5))  \n",
    "new_category_4.loc[new_category_4.total_number_of_households == 14934921, 'th_heating'] = 1614.681\n",
    "ALL_VALUES.clear()\n",
    "\n",
    "new_category_4.loc[(new_category_4.total_air_conditioning >= 0), 'th_conditioning'] = 0\n",
    "\n",
    "new_category_4.loc[:, 'th_water_heating'] = new_category_4.heating.apply(lambda x: 0 if x == 2 or x == 22 \n",
    "                                                                         else get_distinct_values(200, 2))\n",
    "new_category_4.loc[new_category_4.total_number_of_households == 14934921, 'th_water_heating'] = 656.319\n",
    "ALL_VALUES.clear()\n",
    "\n",
    "new_category_4.loc[new_category_4.total_microwave >= 0, 'th_cooking'] = 0\n",
    "\n",
    "new_category_4.loc[(new_category_4.total_PC >= 0), 'th_lighting'] = 0\n",
    "\n",
    "new_category_4.loc[new_category_4.total_PC >= 0, 'th_other'] = 0"
   ]
  },
  {
   "cell_type": "code",
   "execution_count": 44,
   "metadata": {},
   "outputs": [],
   "source": [
    "def gas_heating_func(row):\n",
    "    if (row['heating'] == 1) | (row['heating'] == 11) | (row['total_natural_gas'] == 0):\n",
    "        return 0\n",
    "    else:\n",
    "        return get_distinct_values(2000, 10)\n",
    "    \n",
    "def gas_water_heating_func(row):\n",
    "    if (row['total_natural_gas'] == 0) & (row['total_gas_station'] == 0):\n",
    "        return 0\n",
    "    else:\n",
    "        return get_distinct_values(300, 5)"
   ]
  },
  {
   "cell_type": "code",
   "execution_count": 45,
   "metadata": {},
   "outputs": [],
   "source": [
    "new_category_4['gas_heating'] = new_category_4.apply(gas_heating_func, axis=1)   \n",
    "new_category_4.loc[new_category_4.total_number_of_households == 14934921, 'gas_heating'] = 5083.065\n",
    "ALL_VALUES.clear()\n",
    "\n",
    "new_category_4.loc[(new_category_4.total_air_conditioning >= 0), 'gas_conditioning'] = 0\n",
    "\n",
    "new_category_4['gas_water_heating'] = new_category_4.apply(gas_water_heating_func, axis=1)  \n",
    "new_category_4.loc[new_category_4.total_number_of_households == 14934921, 'gas_water_heating'] = 1103.503\n",
    "ALL_VALUES.clear()\n",
    "\n",
    "new_category_4.loc[:, 'gas_cooking'] = new_category_4.total_natural_gas.apply(lambda x: 0 if x == 0\n",
    "                                                                              else get_distinct_values(800, 5)) \n",
    "new_category_4.loc[new_category_4.total_number_of_households == 14934921, 'gas_cooking'] = 2502.432\n",
    "ALL_VALUES.clear()\n",
    "\n",
    "new_category_4.loc[new_category_4.total_PC >= 0, 'gas_lighting'] = 0\n",
    "\n",
    "new_category_4.loc[new_category_4.total_PC >= 0, 'gas_other'] = 0"
   ]
  },
  {
   "cell_type": "code",
   "execution_count": 46,
   "metadata": {},
   "outputs": [],
   "source": [
    "def solid_heating_func(row):\n",
    "    if (row['heating'] == 1) | (row['heating'] == 11) | (row['total_solid_fuel'] == 0):\n",
    "        return 0\n",
    "    else:\n",
    "        return get_distinct_values(130, 2)\n",
    "    \n",
    "def solid_water_heating_func(row):\n",
    "    if (row['house_type'] == 1) | (row['house_type'] == 3) | (row['total_solid_fuel'] == 0):\n",
    "        return 0\n",
    "    else:\n",
    "        return get_distinct_values(7, 1)\n",
    "        \n",
    "def solid_cooking_func(row):\n",
    "    if (row['house_type'] == 1) | (row['house_type'] == 3) | (row['total_solid_fuel'] == 0):\n",
    "        return 0\n",
    "    else:\n",
    "        return get_distinct_values(1)"
   ]
  },
  {
   "cell_type": "code",
   "execution_count": 47,
   "metadata": {},
   "outputs": [],
   "source": [
    "new_category_4['solid_heating'] = new_category_4.apply(solid_heating_func, axis=1)\n",
    "new_category_4.loc[new_category_4.total_number_of_households == 14934921, 'solid_heating'] = 244.4\n",
    "ALL_VALUES.clear()\n",
    "\n",
    "new_category_4.loc[(new_category_4.total_air_conditioning >= 0), 'solid_conditioning'] = 0\n",
    "\n",
    "new_category_4['solid_water_heating'] = new_category_4.apply(solid_water_heating_func, axis=1)\n",
    "new_category_4.loc[new_category_4.total_number_of_households == 14934921, 'solid_water_heating'] = 14.6\n",
    "ALL_VALUES.clear()\n",
    "\n",
    "new_category_4['solid_cooking'] = new_category_4.apply(solid_cooking_func, axis=1)\n",
    "new_category_4.loc[new_category_4.total_number_of_households == 14934921, 'solid_cooking'] = 1\n",
    "ALL_VALUES.clear()\n",
    "\n",
    "new_category_4.loc[new_category_4.total_PC >= 0, 'solid_lighting'] = 0\n",
    "\n",
    "new_category_4.loc[new_category_4.total_PC >= 0, 'solid_other'] = 0"
   ]
  },
  {
   "cell_type": "code",
   "execution_count": 48,
   "metadata": {},
   "outputs": [],
   "source": [
    "def oil_heating_func(row):\n",
    "    if (row['heating'] == 1) | (row['heating'] == 11) | (row['house_type'] == 1) | (row['house_type'] == 3) | \\\n",
    "       (row['total_liquefied_gas'] == 0):\n",
    "        return 0\n",
    "    else:\n",
    "        return get_distinct_values(4, 1)"
   ]
  },
  {
   "cell_type": "code",
   "execution_count": 49,
   "metadata": {},
   "outputs": [],
   "source": [
    "new_category_4['oil_heating'] = new_category_4.apply(oil_heating_func, axis=1)\n",
    "new_category_4.loc[new_category_4.total_number_of_households == 14934921, 'oil_heating'] = 7.8\n",
    "ALL_VALUES.clear()\n",
    "\n",
    "new_category_4.loc[(new_category_4.total_air_conditioning >= 0), 'oil_conditioning'] = 0\n",
    "\n",
    "new_category_4.loc[:, 'oil_water_heating'] = new_category_4.total_liquefied_gas.apply(lambda x: 0 if x == 0\n",
    "                                                                                      else get_distinct_values(5, 1)) \n",
    "new_category_4.loc[new_category_4.total_number_of_households == 14934921, 'oil_water_heating'] = 8.7\n",
    "ALL_VALUES.clear()\n",
    "\n",
    "new_category_4.loc[:, 'oil_cooking'] = new_category_4.total_liquefied_gas.apply(lambda x: 0 if x == 0\n",
    "                                                                                else get_distinct_values(30, 1)) \n",
    "new_category_4.loc[new_category_4.total_number_of_households == 14934921, 'oil_cooking'] = 61.5\n",
    "ALL_VALUES.clear()\n",
    "\n",
    "new_category_4.loc[new_category_4.total_PC >= 0, 'oil_lighting'] = 0\n",
    "\n",
    "new_category_4.loc[new_category_4.total_PC >= 0, 'oil_other'] = 0"
   ]
  },
  {
   "cell_type": "code",
   "execution_count": 50,
   "metadata": {},
   "outputs": [],
   "source": [
    "def bio_heating_func(row):\n",
    "    if (row['heating'] == 1) | (row['heating'] == 11) | (row['house_type'] == 1) | (row['house_type'] == 3) | \\\n",
    "       (row['total_biofuels'] == 0) | (row['settlement_type'] == 1):\n",
    "        return 0\n",
    "    else:\n",
    "        return get_distinct_values(800, 10)\n",
    "    \n",
    "def bio_water_heating_func(row):\n",
    "    if (row['house_type'] == 1) | (row['house_type'] == 3) | \\\n",
    "       (row['total_biofuels'] == 0) | (row['settlement_type'] == 1):\n",
    "        return 0\n",
    "    else:\n",
    "        return get_distinct_values(30, 1)"
   ]
  },
  {
   "cell_type": "code",
   "execution_count": 51,
   "metadata": {},
   "outputs": [],
   "source": [
    "new_category_4['bio_heating'] = new_category_4.apply(bio_heating_func, axis=1)\n",
    "new_category_4.loc[new_category_4.total_number_of_households == 14934921, 'bio_heating'] = 1761.394\n",
    "ALL_VALUES.clear()\n",
    "\n",
    "new_category_4.loc[(new_category_4.total_air_conditioning >= 0), 'bio_conditioning'] = 0\n",
    "\n",
    "new_category_4['bio_water_heating'] = new_category_4.apply(bio_water_heating_func, axis=1)\n",
    "new_category_4.loc[new_category_4.total_number_of_households == 14934921, 'bio_water_heating'] = 52.606\n",
    "ALL_VALUES.clear()\n",
    "\n",
    "new_category_4.loc[new_category_4.total_PC >= 0, 'bio_cooking'] = 0\n",
    "\n",
    "new_category_4.loc[new_category_4.total_PC >= 0, 'bio_lighting'] = 0\n",
    "\n",
    "new_category_4.loc[new_category_4.total_PC >= 0, 'bio_other'] = 0"
   ]
  },
  {
   "cell_type": "code",
   "execution_count": 52,
   "metadata": {},
   "outputs": [],
   "source": [
    "new_category_5 = new_category_4.drop(labels=['household_type', 'house_area', \n",
    "                                             'total_refrigerator', 'total_freezer', 'total_washing_machine', \n",
    "                                             'total_vacuum_cleaner', 'total_colour_TV', 'total_microwave', \n",
    "                                             'total_food_processor', 'total_air_conditioning', 'total_dishwasher', \n",
    "                                             'total_PC', 'total_laptop', 'total_iron', 'total_electric_stove', \n",
    "                                             'total_electric_power', 'total_thermal_energy', 'total_natural_gas',\n",
    "                                             'total_solid_fuel', 'total_liquefied_gas', 'total_biofuels', \n",
    "                                             'total_gas_station'], axis=1)"
   ]
  },
  {
   "cell_type": "code",
   "execution_count": 53,
   "metadata": {},
   "outputs": [],
   "source": [
    "new_category_5 = new_category_5.round({'el_heating':3, 'el_conditioning':3, 'el_water_heating':3, 'el_cooking':3,\n",
    "                                       'el_lighting':3, 'el_other':3, 'th_heating':3, 'th_water_heating':3,\n",
    "                                       'gas_heating':3, 'gas_water_heating':3, 'gas_cooking':3, 'solid_heating':3,\n",
    "                                       'solid_water_heating':3, 'solid_cooking':3, 'oil_heating':3, 'oil_water_heating':3,\n",
    "                                       'oil_cooking':3, 'bio_heating':3, 'bio_water_heating':3})\n",
    "\n",
    "new_category_5[['th_conditioning']] = new_category_5[['th_conditioning']].astype(int)\n",
    "new_category_5[['th_cooking']] = new_category_5[['th_cooking']].astype(int)\n",
    "new_category_5[['th_lighting']] = new_category_5[['th_lighting']].astype(int)\n",
    "new_category_5[['th_other']] = new_category_5[['th_other']].astype(int)\n",
    "new_category_5[['gas_conditioning']] = new_category_5[['gas_conditioning']].astype(int)\n",
    "new_category_5[['gas_lighting']] = new_category_5[['gas_lighting']].astype(int)\n",
    "new_category_5[['gas_other']] = new_category_5[['gas_other']].astype(int)\n",
    "new_category_5[['solid_conditioning']] = new_category_5[['solid_conditioning']].astype(int)\n",
    "new_category_5[['solid_lighting']] = new_category_5[['solid_lighting']].astype(int)\n",
    "new_category_5[['solid_other']] = new_category_5[['solid_other']].astype(int)\n",
    "new_category_5[['oil_conditioning']] = new_category_5[['oil_conditioning']].astype(int)\n",
    "new_category_5[['oil_lighting']] = new_category_5[['oil_lighting']].astype(int)\n",
    "new_category_5[['oil_other']] = new_category_5[['oil_other']].astype(int)\n",
    "new_category_5[['bio_conditioning']] = new_category_5[['bio_conditioning']].astype(int)\n",
    "new_category_5[['bio_cooking']] = new_category_5[['bio_cooking']].astype(int)\n",
    "new_category_5[['bio_lighting']] = new_category_5[['bio_lighting']].astype(int)\n",
    "new_category_5[['bio_other']] = new_category_5[['bio_other']].astype(int)"
   ]
  },
  {
   "cell_type": "code",
   "execution_count": 54,
   "metadata": {},
   "outputs": [],
   "source": [
    "import copy\n",
    "\n",
    "PRECISION = 0.3\n",
    "SAME_PRECISION = 1e-9\n",
    "MAX_ITER = 10000\n",
    "\n",
    "def do_column_estimation(input_matrix: np.ndarray, column_sum: np.ndarray):\n",
    "    actual_col_sum = np.sum(input_matrix, axis=0)\n",
    "    col_coef = column_sum / actual_col_sum\n",
    "    return np.multiply(input_matrix, col_coef)\n",
    "\n",
    "def do_row_estimation(input_matrix: np.ndarray, row_sum: np.ndarray):\n",
    "    actual_row_sum = np.sum(input_matrix, axis=1)\n",
    "    row_coef = row_sum / actual_row_sum\n",
    "    row_coef = row_coef.reshape((len(row_coef), 1))\n",
    "    return np.multiply(input_matrix, row_coef)\n",
    "\n",
    "def iterative_proportional_method(input_matrix: np.ndarray, row_sum: np.ndarray, column_sum: np.ndarray):\n",
    "    converged = False\n",
    "    inverse_step = False\n",
    "    prev_col_diff = np.zeros_like(column_sum)\n",
    "    prev_row_diff = np.zeros_like(row_sum)\n",
    "    iter_num = 0\n",
    "    while not converged:\n",
    "        if iter_num >= MAX_ITER:\n",
    "            converged = True\n",
    "        \n",
    "        actual_row_sum = np.sum(input_matrix, axis=1)\n",
    "        actual_col_sum = np.sum(input_matrix, axis=0)\n",
    "\n",
    "        abs_row_diff = np.abs(row_sum - actual_row_sum)\n",
    "        abs_col_diff = np.abs(column_sum - actual_col_sum)\n",
    "        \n",
    "        if np.all(np.isclose(abs_row_diff, prev_row_diff, atol=SAME_PRECISION)) and np.all(\n",
    "                np.isclose(abs_col_diff, prev_col_diff, atol=SAME_PRECISION)):\n",
    "            inverse_step = not inverse_step\n",
    "            \n",
    "        prev_row_diff = copy.deepcopy(abs_row_diff)\n",
    "        prev_col_diff = copy.deepcopy(abs_col_diff)\n",
    "        \n",
    "        if np.all(np.isclose(actual_row_sum, row_sum, atol=PRECISION)) and np.all(\n",
    "                np.isclose(actual_col_sum, column_sum, atol=PRECISION)):\n",
    "            converged = True\n",
    "        else:\n",
    "            iter_num += 1\n",
    "            if inverse_step:\n",
    "                input_matrix = do_row_estimation(input_matrix, row_sum)\n",
    "                input_matrix = do_column_estimation(input_matrix, column_sum)\n",
    "            else:\n",
    "                input_matrix = do_column_estimation(input_matrix, column_sum)\n",
    "                input_matrix = do_row_estimation(input_matrix, row_sum)\n",
    "    return input_matrix"
   ]
  },
  {
   "cell_type": "code",
   "execution_count": 55,
   "metadata": {},
   "outputs": [],
   "source": [
    "row_sum = new_category_5['energy_consumption_ttoe'].values[:-1]\n",
    "column_sum = new_category_5.iloc[-1,6:].values\n",
    "input_data = new_category_5.iloc[:-1, 6:].values\n",
    "\n",
    "\n",
    "idx = np.argwhere(np.all(input_data[..., :] == 0, axis=0))\n",
    "new_column_sum = column_sum[column_sum != 0]\n",
    "new_input = np.delete(input_data, idx, axis=1)\n",
    "\n",
    "resulting_table = iterative_proportional_method(new_input, row_sum, new_column_sum)"
   ]
  },
  {
   "cell_type": "code",
   "execution_count": 56,
   "metadata": {},
   "outputs": [],
   "source": [
    "result_data = np.zeros_like(input_data)\n",
    "real_id = 0\n",
    "for column_id in range(input_data.shape[1]):\n",
    "    if column_id in idx:\n",
    "        continue\n",
    "    \n",
    "    result_data[:, column_id] = resulting_table[:, real_id]\n",
    "    real_id += 1"
   ]
  },
  {
   "cell_type": "code",
   "execution_count": 57,
   "metadata": {},
   "outputs": [],
   "source": [
    "new_category_6 = new_category_5.copy(deep=True)\n",
    "new_category_6.iloc[:-1, 6:] = result_data"
   ]
  },
  {
   "cell_type": "code",
   "execution_count": 58,
   "metadata": {},
   "outputs": [],
   "source": [
    "new_category_6 = new_category_6.round({'el_heating':3, 'el_conditioning':3, 'el_water_heating':3, 'el_cooking':3,\n",
    "                                       'el_lighting':3, 'el_other':3, 'th_heating':3, 'th_water_heating':3,\n",
    "                                       'gas_heating':3, 'gas_water_heating':3, 'gas_cooking':3, 'solid_heating':3,\n",
    "                                       'solid_water_heating':3, 'solid_cooking':3, 'oil_heating':3, 'oil_water_heating':3,\n",
    "                                       'oil_cooking':3, 'bio_heating':3, 'bio_water_heating':3})"
   ]
  },
  {
   "cell_type": "code",
   "execution_count": 59,
   "metadata": {},
   "outputs": [],
   "source": [
    "# new_category_6"
   ]
  },
  {
   "cell_type": "code",
   "execution_count": 60,
   "metadata": {},
   "outputs": [],
   "source": [
    "el_heating_sum = sum(new_category_6['el_heating'].values[:-1])\n",
    "th_heating_sum = sum(new_category_6['th_heating'].values[:-1])\n",
    "gas_heating_sum = sum(new_category_6['gas_heating'].values[:-1])\n",
    "solid_heating_sum = sum(new_category_6['solid_heating'].values[:-1])\n",
    "oil_heating_sum = sum(new_category_6['oil_heating'].values[:-1])\n",
    "bio_heating_sum = sum(new_category_6['bio_heating'].values[:-1])\n",
    "\n",
    "el_conditioning_sum = sum(new_category_6['el_conditioning'].values[:-1])\n",
    "\n",
    "el_water_heating_sum = sum(new_category_6['el_water_heating'].values[:-1])\n",
    "th_water_heating_sum = sum(new_category_6['th_water_heating'].values[:-1])\n",
    "gas_water_heating_sum = sum(new_category_6['gas_water_heating'].values[:-1])\n",
    "solid_water_heating_sum = sum(new_category_6['solid_water_heating'].values[:-1])\n",
    "oil_water_heating_sum = sum(new_category_6['oil_water_heating'].values[:-1])\n",
    "bio_water_heating_sum = sum(new_category_6['bio_water_heating'].values[:-1])\n",
    "\n",
    "el_cooking_sum = sum(new_category_6['el_cooking'].values[:-1])\n",
    "gas_cooking_sum = sum(new_category_6['gas_cooking'].values[:-1])\n",
    "solid_cooking_sum = sum(new_category_6['solid_cooking'].values[:-1])\n",
    "oil_cooking_sum = sum(new_category_6['oil_cooking'].values[:-1])\n",
    "\n",
    "el_lighting_sum = sum(new_category_6['el_lighting'].values[:-1])\n",
    "\n",
    "el_other_sum = sum(new_category_6['el_other'].values[:-1])"
   ]
  },
  {
   "cell_type": "code",
   "execution_count": 61,
   "metadata": {},
   "outputs": [],
   "source": [
    "final_table_1 = pd.DataFrame({'heating': [0, 0, 0, 0, 0, 0], 'conditioning': [0, 0, 0, 0, 0, 0], \n",
    "                              'water_heating': [0, 0, 0, 0, 0, 0], 'cooking': [0, 0, 0, 0, 0, 0],\n",
    "                              'lighting': [0, 0, 0, 0, 0, 0], 'other': [0, 0, 0, 0, 0, 0]})"
   ]
  },
  {
   "cell_type": "code",
   "execution_count": 62,
   "metadata": {},
   "outputs": [],
   "source": [
    "final_table_1.loc[0, 'heating'] = el_heating_sum\n",
    "final_table_1.loc[1, 'heating'] = th_heating_sum\n",
    "final_table_1.loc[2, 'heating'] = gas_heating_sum\n",
    "final_table_1.loc[3, 'heating'] = solid_heating_sum\n",
    "final_table_1.loc[4, 'heating'] = oil_heating_sum\n",
    "final_table_1.loc[5, 'heating'] = bio_heating_sum\n",
    "\n",
    "final_table_1.loc[0, 'conditioning'] = el_conditioning_sum\n",
    "\n",
    "final_table_1.loc[0, 'water_heating'] = el_water_heating_sum\n",
    "final_table_1.loc[1, 'water_heating'] = th_water_heating_sum\n",
    "final_table_1.loc[2, 'water_heating'] = gas_water_heating_sum\n",
    "final_table_1.loc[3, 'water_heating'] = solid_water_heating_sum\n",
    "final_table_1.loc[4, 'water_heating'] = oil_water_heating_sum\n",
    "final_table_1.loc[5, 'water_heating'] = bio_water_heating_sum\n",
    "\n",
    "final_table_1.loc[0, 'cooking'] = el_cooking_sum\n",
    "final_table_1.loc[2, 'cooking'] = gas_cooking_sum\n",
    "final_table_1.loc[3, 'cooking'] = solid_cooking_sum\n",
    "final_table_1.loc[4, 'cooking'] = oil_cooking_sum\n",
    "\n",
    "final_table_1.loc[0, 'lighting'] = el_lighting_sum\n",
    "\n",
    "final_table_1.loc[0, 'other'] = el_other_sum"
   ]
  },
  {
   "cell_type": "code",
   "execution_count": 63,
   "metadata": {},
   "outputs": [],
   "source": [
    "final_table_1['total'] = final_table_1.heating + final_table_1.conditioning + final_table_1.water_heating + \\\n",
    "                         final_table_1.cooking + final_table_1.lighting + final_table_1.other"
   ]
  },
  {
   "cell_type": "code",
   "execution_count": 64,
   "metadata": {},
   "outputs": [],
   "source": [
    "final_table_1['category'] = (['electricity', 'thermal_energy', 'gas', 'solid_fuel', 'oil', 'bio_fuel'])\n",
    "\n",
    "final_table_1 = final_table_1.reset_index().set_index('category')\n",
    "\n",
    "final_table_1 = final_table_1.drop(labels='index', axis=1)"
   ]
  },
  {
   "cell_type": "code",
   "execution_count": 65,
   "metadata": {},
   "outputs": [],
   "source": [
    "final_table_1.loc['sum'] = [0, 0, 0, 0, 0, 0, 0]\n",
    "\n",
    "final_table_1.loc['sum', 'heating'] = sum(final_table_1['heating'].values)\n",
    "final_table_1.loc['sum', 'conditioning'] = sum(final_table_1['conditioning'].values)\n",
    "final_table_1.loc['sum', 'water_heating'] = sum(final_table_1['water_heating'].values)\n",
    "final_table_1.loc['sum', 'cooking'] = sum(final_table_1['cooking'].values)\n",
    "final_table_1.loc['sum', 'lighting'] = sum(final_table_1['lighting'].values)\n",
    "final_table_1.loc['sum', 'other'] = sum(final_table_1['other'].values)\n",
    "final_table_1.loc['sum', 'total'] = sum(final_table_1['total'].values)"
   ]
  },
  {
   "cell_type": "code",
   "execution_count": 66,
   "metadata": {},
   "outputs": [],
   "source": [
    "# final_table_1"
   ]
  },
  {
   "cell_type": "code",
   "execution_count": 67,
   "metadata": {},
   "outputs": [],
   "source": [
    "final_table_2 = final_table_1.round({'heating':2, 'conditioning':2, 'water_heating':2, 'cooking':2, 'lighting':2,\n",
    "                                     'other': 2, 'total': 2})"
   ]
  },
  {
   "cell_type": "code",
   "execution_count": 68,
   "metadata": {},
   "outputs": [],
   "source": [
    "heating_1 = final_table_2.loc['electricity','heating'] * 100 / final_table_2.loc['electricity','total']\n",
    "heating_2 = final_table_2.loc['thermal_energy','heating'] * 100 / final_table_2.loc['thermal_energy','total']\n",
    "heating_3 = final_table_2.loc['gas','heating'] * 100 / final_table_2.loc['gas','total']\n",
    "heating_4 = final_table_2.loc['solid_fuel','heating'] * 100 / final_table_2.loc['solid_fuel','total']\n",
    "heating_5 = final_table_2.loc['oil','heating'] * 100 / final_table_2.loc['oil','total']\n",
    "heating_6 = final_table_2.loc['bio_fuel','heating'] * 100 / final_table_2.loc['bio_fuel','total']\n",
    "heating_7 = final_table_2.loc['sum','heating'] * 100 / final_table_2.loc['sum','total']\n",
    "\n",
    "conditioning_1 = final_table_2.loc['electricity','conditioning'] * 100 / final_table_2.loc['electricity','total']\n",
    "conditioning_7 = final_table_2.loc['sum','conditioning'] * 100 / final_table_2.loc['sum','total']\n",
    "\n",
    "w_heating_1 = final_table_2.loc['electricity','water_heating'] * 100 / final_table_2.loc['electricity','total']\n",
    "w_heating_2 = final_table_2.loc['thermal_energy','water_heating'] * 100 / final_table_2.loc['thermal_energy','total']\n",
    "w_heating_3 = final_table_2.loc['gas','water_heating'] * 100 / final_table_2.loc['gas','total']\n",
    "w_heating_4 = final_table_2.loc['solid_fuel','water_heating'] * 100 / final_table_2.loc['solid_fuel','total']\n",
    "w_heating_5 = final_table_2.loc['oil','water_heating'] * 100 / final_table_2.loc['oil','total']\n",
    "w_heating_6 = final_table_2.loc['bio_fuel','water_heating'] * 100 / final_table_2.loc['bio_fuel','total']\n",
    "w_heating_7 = final_table_2.loc['sum','water_heating'] * 100 / final_table_2.loc['sum','total']\n",
    "\n",
    "cooking_1 = final_table_2.loc['electricity','cooking'] * 100 / final_table_2.loc['electricity','total']\n",
    "cooking_3 = final_table_2.loc['gas','cooking'] * 100 / final_table_2.loc['gas','total']\n",
    "cooking_4 = final_table_2.loc['solid_fuel','cooking'] * 100 / final_table_2.loc['solid_fuel','total']\n",
    "cooking_5 = final_table_2.loc['oil','cooking'] * 100 / final_table_2.loc['oil','total']\n",
    "cooking_7 = final_table_2.loc['sum','cooking'] * 100 / final_table_2.loc['sum','total']\n",
    "\n",
    "lighting_1 = final_table_2.loc['electricity','lighting'] * 100 / final_table_2.loc['electricity','total']\n",
    "lighting_7 = final_table_2.loc['sum','lighting'] * 100 / final_table_2.loc['sum','total']\n",
    "\n",
    "other_1 = final_table_2.loc['electricity','other'] * 100 / final_table_2.loc['electricity','total']\n",
    "other_7 = final_table_2.loc['sum','other'] * 100 / final_table_2.loc['sum','total']"
   ]
  },
  {
   "cell_type": "code",
   "execution_count": 69,
   "metadata": {},
   "outputs": [],
   "source": [
    "final_table_2.loc['electricity','heating'] = heating_1\n",
    "final_table_2.loc['thermal_energy','heating'] = heating_2\n",
    "final_table_2.loc['gas','heating'] = heating_3\n",
    "final_table_2.loc['solid_fuel','heating'] = heating_4\n",
    "final_table_2.loc['oil','heating'] = heating_5\n",
    "final_table_2.loc['bio_fuel','heating'] = heating_6\n",
    "final_table_2.loc['sum','heating'] = heating_7\n",
    "\n",
    "final_table_2.loc['electricity','conditioning'] = conditioning_1\n",
    "final_table_2.loc['sum','conditioning'] = conditioning_7\n",
    "\n",
    "final_table_2.loc['electricity','water_heating'] = w_heating_1\n",
    "final_table_2.loc['thermal_energy','water_heating'] = w_heating_2\n",
    "final_table_2.loc['gas','water_heating'] = w_heating_3\n",
    "final_table_2.loc['solid_fuel','water_heating'] = w_heating_4\n",
    "final_table_2.loc['oil','water_heating'] = w_heating_5\n",
    "final_table_2.loc['bio_fuel','water_heating'] = w_heating_6\n",
    "final_table_2.loc['sum','water_heating'] = w_heating_7\n",
    "\n",
    "final_table_2.loc['electricity','cooking'] = cooking_1\n",
    "final_table_2.loc['gas','cooking'] = cooking_3\n",
    "final_table_2.loc['solid_fuel','cooking'] = cooking_4\n",
    "final_table_2.loc['oil','cooking'] = cooking_5\n",
    "final_table_2.loc['sum','cooking'] = cooking_7\n",
    "\n",
    "final_table_2.loc['electricity','lighting'] = lighting_1\n",
    "final_table_2.loc['sum','lighting'] = lighting_7\n",
    "\n",
    "final_table_2.loc['electricity','other'] = other_1\n",
    "final_table_2.loc['sum','other'] = other_7"
   ]
  },
  {
   "cell_type": "code",
   "execution_count": 70,
   "metadata": {},
   "outputs": [],
   "source": [
    "final_table_2['total'] = [100, 100, 100, 100, 100, 100, 100]"
   ]
  },
  {
   "cell_type": "code",
   "execution_count": 71,
   "metadata": {},
   "outputs": [],
   "source": [
    "final_table_2 = final_table_2.round({'heating':2, 'conditioning':2, 'water_heating':2, 'cooking':2, 'lighting':2,\n",
    "                                     'other': 2, 'total': 2})"
   ]
  },
  {
   "cell_type": "code",
   "execution_count": 72,
   "metadata": {},
   "outputs": [],
   "source": [
    "# final_table_2"
   ]
  },
  {
   "cell_type": "code",
   "execution_count": 73,
   "metadata": {},
   "outputs": [],
   "source": [
    "# final_table_1.to_excel(\"ttoe.xlsx\")\n",
    "# final_table_2.to_excel(\"percent.xlsx\")"
   ]
  },
  {
   "cell_type": "code",
   "execution_count": 74,
   "metadata": {},
   "outputs": [],
   "source": [
    "new_category_7 = new_category_6.copy(deep = True)"
   ]
  },
  {
   "cell_type": "code",
   "execution_count": 75,
   "metadata": {},
   "outputs": [],
   "source": [
    "new_category_7.loc[new_category_7.settlement_type == 2,'el_heating'] = 0\n",
    "new_category_7.loc[new_category_7.settlement_type == 2,'el_conditioning'] = 0\n",
    "new_category_7.loc[new_category_7.settlement_type == 2,'el_water_heating'] = 0\n",
    "new_category_7.loc[new_category_7.settlement_type == 2,'el_cooking'] = 0\n",
    "new_category_7.loc[new_category_7.settlement_type == 2,'el_lighting'] = 0\n",
    "new_category_7.loc[new_category_7.settlement_type == 2,'el_other'] = 0\n",
    "new_category_7.loc[new_category_7.settlement_type == 2,'th_heating'] = 0\n",
    "new_category_7.loc[new_category_7.settlement_type == 2,'th_water_heating'] = 0\n",
    "new_category_7.loc[new_category_7.settlement_type == 2,'gas_heating'] = 0\n",
    "new_category_7.loc[new_category_7.settlement_type == 2,'gas_water_heating'] = 0\n",
    "new_category_7.loc[new_category_7.settlement_type == 2,'gas_cooking'] = 0\n",
    "new_category_7.loc[new_category_7.settlement_type == 2,'solid_heating'] = 0\n",
    "new_category_7.loc[new_category_7.settlement_type == 2,'solid_water_heating'] = 0\n",
    "new_category_7.loc[new_category_7.settlement_type == 2,'solid_cooking'] = 0\n",
    "new_category_7.loc[new_category_7.settlement_type == 2,'oil_heating'] = 0\n",
    "new_category_7.loc[new_category_7.settlement_type == 2,'oil_water_heating'] = 0\n",
    "new_category_7.loc[new_category_7.settlement_type == 2,'oil_cooking'] = 0\n",
    "new_category_7.loc[new_category_7.settlement_type == 2,'bio_heating'] = 0\n",
    "new_category_7.loc[new_category_7.settlement_type == 2,'bio_water_heating'] = 0"
   ]
  },
  {
   "cell_type": "code",
   "execution_count": 76,
   "metadata": {},
   "outputs": [],
   "source": [
    "el_heating_sum = sum(new_category_7['el_heating'].values[:-1])\n",
    "th_heating_sum = sum(new_category_7['th_heating'].values[:-1])\n",
    "gas_heating_sum = sum(new_category_7['gas_heating'].values[:-1])\n",
    "solid_heating_sum = sum(new_category_7['solid_heating'].values[:-1])\n",
    "oil_heating_sum = sum(new_category_7['oil_heating'].values[:-1])\n",
    "bio_heating_sum = sum(new_category_7['bio_heating'].values[:-1])\n",
    "\n",
    "el_conditioning_sum = sum(new_category_7['el_conditioning'].values[:-1])\n",
    "\n",
    "el_water_heating_sum = sum(new_category_7['el_water_heating'].values[:-1])\n",
    "th_water_heating_sum = sum(new_category_7['th_water_heating'].values[:-1])\n",
    "gas_water_heating_sum = sum(new_category_7['gas_water_heating'].values[:-1])\n",
    "solid_water_heating_sum = sum(new_category_7['solid_water_heating'].values[:-1])\n",
    "oil_water_heating_sum = sum(new_category_7['oil_water_heating'].values[:-1])\n",
    "bio_water_heating_sum = sum(new_category_7['bio_water_heating'].values[:-1])\n",
    "\n",
    "el_cooking_sum = sum(new_category_7['el_cooking'].values[:-1])\n",
    "gas_cooking_sum = sum(new_category_7['gas_cooking'].values[:-1])\n",
    "solid_cooking_sum = sum(new_category_7['solid_cooking'].values[:-1])\n",
    "oil_cooking_sum = sum(new_category_7['oil_cooking'].values[:-1])\n",
    "\n",
    "el_lighting_sum = sum(new_category_7['el_lighting'].values[:-1])\n",
    "\n",
    "el_other_sum = sum(new_category_7['el_other'].values[:-1])"
   ]
  },
  {
   "cell_type": "code",
   "execution_count": 77,
   "metadata": {},
   "outputs": [],
   "source": [
    "final_table_3 = pd.DataFrame({'heating': [0, 0, 0, 0, 0, 0], 'conditioning': [0, 0, 0, 0, 0, 0], \n",
    "                              'water_heating': [0, 0, 0, 0, 0, 0], 'cooking': [0, 0, 0, 0, 0, 0],\n",
    "                              'lighting': [0, 0, 0, 0, 0, 0], 'other': [0, 0, 0, 0, 0, 0]})"
   ]
  },
  {
   "cell_type": "code",
   "execution_count": 78,
   "metadata": {},
   "outputs": [],
   "source": [
    "final_table_3.loc[0, 'heating'] = el_heating_sum\n",
    "final_table_3.loc[1, 'heating'] = th_heating_sum\n",
    "final_table_3.loc[2, 'heating'] = gas_heating_sum\n",
    "final_table_3.loc[3, 'heating'] = solid_heating_sum\n",
    "final_table_3.loc[4, 'heating'] = oil_heating_sum\n",
    "final_table_3.loc[5, 'heating'] = bio_heating_sum\n",
    "\n",
    "final_table_3.loc[0, 'conditioning'] = el_conditioning_sum\n",
    "\n",
    "final_table_3.loc[0, 'water_heating'] = el_water_heating_sum\n",
    "final_table_3.loc[1, 'water_heating'] = th_water_heating_sum\n",
    "final_table_3.loc[2, 'water_heating'] = gas_water_heating_sum\n",
    "final_table_3.loc[3, 'water_heating'] = solid_water_heating_sum\n",
    "final_table_3.loc[4, 'water_heating'] = oil_water_heating_sum\n",
    "final_table_3.loc[5, 'water_heating'] = bio_water_heating_sum\n",
    "\n",
    "final_table_3.loc[0, 'cooking'] = el_cooking_sum\n",
    "final_table_3.loc[2, 'cooking'] = gas_cooking_sum\n",
    "final_table_3.loc[3, 'cooking'] = solid_cooking_sum\n",
    "final_table_3.loc[4, 'cooking'] = oil_cooking_sum\n",
    "\n",
    "final_table_3.loc[0, 'lighting'] = el_lighting_sum\n",
    "\n",
    "final_table_3.loc[0, 'other'] = el_other_sum"
   ]
  },
  {
   "cell_type": "code",
   "execution_count": 79,
   "metadata": {},
   "outputs": [],
   "source": [
    "final_table_3['total'] = final_table_3.heating + final_table_3.conditioning + final_table_3.water_heating + \\\n",
    "                         final_table_3.cooking + final_table_3.lighting + final_table_3.other"
   ]
  },
  {
   "cell_type": "code",
   "execution_count": 80,
   "metadata": {},
   "outputs": [],
   "source": [
    "final_table_3['category'] = (['electricity', 'thermal_energy', 'gas', 'solid_fuel', 'oil', 'bio_fuel'])\n",
    "\n",
    "final_table_3 = final_table_3.reset_index().set_index('category')\n",
    "\n",
    "final_table_3 = final_table_3.drop(labels='index', axis=1)"
   ]
  },
  {
   "cell_type": "code",
   "execution_count": 81,
   "metadata": {},
   "outputs": [],
   "source": [
    "final_table_3.loc['sum'] = [0, 0, 0, 0, 0, 0, 0]\n",
    "\n",
    "final_table_3.loc['sum', 'heating'] = sum(final_table_3['heating'].values)\n",
    "final_table_3.loc['sum', 'conditioning'] = sum(final_table_3['conditioning'].values)\n",
    "final_table_3.loc['sum', 'water_heating'] = sum(final_table_3['water_heating'].values)\n",
    "final_table_3.loc['sum', 'cooking'] = sum(final_table_3['cooking'].values)\n",
    "final_table_3.loc['sum', 'lighting'] = sum(final_table_3['lighting'].values)\n",
    "final_table_3.loc['sum', 'other'] = sum(final_table_3['other'].values)\n",
    "final_table_3.loc['sum', 'total'] = sum(final_table_3['total'].values)"
   ]
  },
  {
   "cell_type": "code",
   "execution_count": 82,
   "metadata": {},
   "outputs": [],
   "source": [
    "final_city = final_table_3.copy(deep = True)"
   ]
  },
  {
   "cell_type": "code",
   "execution_count": 83,
   "metadata": {},
   "outputs": [],
   "source": [
    "# final_city"
   ]
  },
  {
   "cell_type": "code",
   "execution_count": 84,
   "metadata": {},
   "outputs": [],
   "source": [
    "final_city_1 = final_city.round({'heating':2, 'conditioning':2, 'water_heating':2, 'cooking':2, 'lighting':2,\n",
    "                                 'other': 2, 'total': 2})"
   ]
  },
  {
   "cell_type": "code",
   "execution_count": 85,
   "metadata": {},
   "outputs": [],
   "source": [
    "heating_1 = final_city_1.loc['electricity','heating'] * 100 / final_city_1.loc['electricity','total']\n",
    "heating_2 = final_city_1.loc['thermal_energy','heating'] * 100 / final_city_1.loc['thermal_energy','total']\n",
    "heating_3 = final_city_1.loc['gas','heating'] * 100 / final_city_1.loc['gas','total']\n",
    "heating_4 = final_city_1.loc['solid_fuel','heating'] * 100 / final_city_1.loc['solid_fuel','total']\n",
    "heating_5 = final_city_1.loc['oil','heating'] * 100 / final_city_1.loc['oil','total']\n",
    "heating_7 = final_city_1.loc['sum','heating'] * 100 / final_city_1.loc['sum','total']\n",
    "\n",
    "conditioning_1 = final_city_1.loc['electricity','conditioning'] * 100 / final_city_1.loc['electricity','total']\n",
    "conditioning_7 = final_city_1.loc['sum','conditioning'] * 100 / final_city_1.loc['sum','total']\n",
    "\n",
    "w_heating_1 = final_city_1.loc['electricity','water_heating'] * 100 / final_city_1.loc['electricity','total']\n",
    "w_heating_2 = final_city_1.loc['thermal_energy','water_heating'] * 100 / final_city_1.loc['thermal_energy','total']\n",
    "w_heating_3 = final_city_1.loc['gas','water_heating'] * 100 / final_city_1.loc['gas','total']\n",
    "w_heating_4 = final_city_1.loc['solid_fuel','water_heating'] * 100 / final_city_1.loc['solid_fuel','total']\n",
    "w_heating_5 = final_city_1.loc['oil','water_heating'] * 100 / final_city_1.loc['oil','total']\n",
    "w_heating_7 = final_city_1.loc['sum','water_heating'] * 100 / final_city_1.loc['sum','total']\n",
    "\n",
    "cooking_1 = final_city_1.loc['electricity','cooking'] * 100 / final_city_1.loc['electricity','total']\n",
    "cooking_3 = final_city_1.loc['gas','cooking'] * 100 / final_city_1.loc['gas','total']\n",
    "cooking_4 = final_city_1.loc['solid_fuel','cooking'] * 100 / final_city_1.loc['solid_fuel','total']\n",
    "cooking_5 = final_city_1.loc['oil','cooking'] * 100 / final_city_1.loc['oil','total']\n",
    "cooking_7 = final_city_1.loc['sum','cooking'] * 100 / final_city_1.loc['sum','total']\n",
    "\n",
    "lighting_1 = final_city_1.loc['electricity','lighting'] * 100 / final_city_1.loc['electricity','total']\n",
    "lighting_7 = final_city_1.loc['sum','lighting'] * 100 / final_city_1.loc['sum','total']\n",
    "\n",
    "other_1 = final_city_1.loc['electricity','other'] * 100 / final_city_1.loc['electricity','total']\n",
    "other_7 = final_city_1.loc['sum','other'] * 100 / final_city_1.loc['sum','total']"
   ]
  },
  {
   "cell_type": "code",
   "execution_count": 86,
   "metadata": {},
   "outputs": [],
   "source": [
    "final_city_1.loc['electricity','heating'] = heating_1\n",
    "final_city_1.loc['thermal_energy','heating'] = heating_2\n",
    "final_city_1.loc['gas','heating'] = heating_3\n",
    "final_city_1.loc['solid_fuel','heating'] = heating_4\n",
    "final_city_1.loc['oil','heating'] = heating_5\n",
    "final_city_1.loc['sum','heating'] = heating_7\n",
    "\n",
    "final_city_1.loc['electricity','conditioning'] = conditioning_1\n",
    "final_city_1.loc['sum','conditioning'] = conditioning_7\n",
    "\n",
    "final_city_1.loc['electricity','water_heating'] = w_heating_1\n",
    "final_city_1.loc['thermal_energy','water_heating'] = w_heating_2\n",
    "final_city_1.loc['gas','water_heating'] = w_heating_3\n",
    "final_city_1.loc['solid_fuel','water_heating'] = w_heating_4\n",
    "final_city_1.loc['oil','water_heating'] = w_heating_5\n",
    "final_city_1.loc['sum','water_heating'] = w_heating_7\n",
    "\n",
    "final_city_1.loc['electricity','cooking'] = cooking_1\n",
    "final_city_1.loc['gas','cooking'] = cooking_3\n",
    "final_city_1.loc['solid_fuel','cooking'] = cooking_4\n",
    "final_city_1.loc['oil','cooking'] = cooking_5\n",
    "final_city_1.loc['sum','cooking'] = cooking_7\n",
    "\n",
    "final_city_1.loc['electricity','lighting'] = lighting_1\n",
    "final_city_1.loc['sum','lighting'] = lighting_7\n",
    "\n",
    "final_city_1.loc['electricity','other'] = other_1\n",
    "final_city_1.loc['sum','other'] = other_7"
   ]
  },
  {
   "cell_type": "code",
   "execution_count": 87,
   "metadata": {},
   "outputs": [],
   "source": [
    "final_city_1['total'] = [100, 100, 100, 100, 100, 0, 100]"
   ]
  },
  {
   "cell_type": "code",
   "execution_count": 88,
   "metadata": {},
   "outputs": [],
   "source": [
    "final_city_1 = final_city_1.round({'heating':2, 'conditioning':2, 'water_heating':2, 'cooking':2, 'lighting':2,\n",
    "                                    'other': 2, 'total': 2})"
   ]
  },
  {
   "cell_type": "code",
   "execution_count": 89,
   "metadata": {},
   "outputs": [],
   "source": [
    "# final_city_1"
   ]
  },
  {
   "cell_type": "code",
   "execution_count": 90,
   "metadata": {},
   "outputs": [],
   "source": [
    "new_category_8 = new_category_6.copy(deep = True)"
   ]
  },
  {
   "cell_type": "code",
   "execution_count": 91,
   "metadata": {},
   "outputs": [],
   "source": [
    "new_category_8.loc[new_category_8.settlement_type == 1,'el_heating'] = 0\n",
    "new_category_8.loc[new_category_8.settlement_type == 1,'el_conditioning'] = 0\n",
    "new_category_8.loc[new_category_8.settlement_type == 1,'el_water_heating'] = 0\n",
    "new_category_8.loc[new_category_8.settlement_type == 1,'el_cooking'] = 0\n",
    "new_category_8.loc[new_category_8.settlement_type == 1,'el_lighting'] = 0\n",
    "new_category_8.loc[new_category_8.settlement_type == 1,'el_other'] = 0\n",
    "new_category_8.loc[new_category_8.settlement_type == 1,'th_heating'] = 0\n",
    "new_category_8.loc[new_category_8.settlement_type == 1,'th_water_heating'] = 0\n",
    "new_category_8.loc[new_category_8.settlement_type == 1,'gas_heating'] = 0\n",
    "new_category_8.loc[new_category_8.settlement_type == 1,'gas_water_heating'] = 0\n",
    "new_category_8.loc[new_category_8.settlement_type == 1,'gas_cooking'] = 0\n",
    "new_category_8.loc[new_category_8.settlement_type == 1,'solid_heating'] = 0\n",
    "new_category_8.loc[new_category_8.settlement_type == 1,'solid_water_heating'] = 0\n",
    "new_category_8.loc[new_category_8.settlement_type == 1,'solid_cooking'] = 0\n",
    "new_category_8.loc[new_category_8.settlement_type == 1,'oil_heating'] = 0\n",
    "new_category_8.loc[new_category_8.settlement_type == 1,'oil_water_heating'] = 0\n",
    "new_category_8.loc[new_category_8.settlement_type == 1,'oil_cooking'] = 0\n",
    "new_category_8.loc[new_category_8.settlement_type == 1,'bio_heating'] = 0\n",
    "new_category_8.loc[new_category_8.settlement_type == 1,'bio_water_heating'] = 0"
   ]
  },
  {
   "cell_type": "code",
   "execution_count": 92,
   "metadata": {},
   "outputs": [],
   "source": [
    "el_heating_sum = sum(new_category_8['el_heating'].values[:-1])\n",
    "th_heating_sum = sum(new_category_8['th_heating'].values[:-1])\n",
    "gas_heating_sum = sum(new_category_8['gas_heating'].values[:-1])\n",
    "solid_heating_sum = sum(new_category_8['solid_heating'].values[:-1])\n",
    "oil_heating_sum = sum(new_category_8['oil_heating'].values[:-1])\n",
    "bio_heating_sum = sum(new_category_8['bio_heating'].values[:-1])\n",
    "\n",
    "el_conditioning_sum = sum(new_category_8['el_conditioning'].values[:-1])\n",
    "\n",
    "el_water_heating_sum = sum(new_category_8['el_water_heating'].values[:-1])\n",
    "th_water_heating_sum = sum(new_category_8['th_water_heating'].values[:-1])\n",
    "gas_water_heating_sum = sum(new_category_8['gas_water_heating'].values[:-1])\n",
    "solid_water_heating_sum = sum(new_category_8['solid_water_heating'].values[:-1])\n",
    "oil_water_heating_sum = sum(new_category_8['oil_water_heating'].values[:-1])\n",
    "bio_water_heating_sum = sum(new_category_8['bio_water_heating'].values[:-1])\n",
    "\n",
    "el_cooking_sum = sum(new_category_8['el_cooking'].values[:-1])\n",
    "gas_cooking_sum = sum(new_category_8['gas_cooking'].values[:-1])\n",
    "solid_cooking_sum = sum(new_category_8['solid_cooking'].values[:-1])\n",
    "oil_cooking_sum = sum(new_category_8['oil_cooking'].values[:-1])\n",
    "\n",
    "el_lighting_sum = sum(new_category_8['el_lighting'].values[:-1])\n",
    "\n",
    "el_other_sum = sum(new_category_8['el_other'].values[:-1])"
   ]
  },
  {
   "cell_type": "code",
   "execution_count": 93,
   "metadata": {},
   "outputs": [],
   "source": [
    "final_table_4 = pd.DataFrame({'heating': [0, 0, 0, 0, 0, 0], 'conditioning': [0, 0, 0, 0, 0, 0], \n",
    "                              'water_heating': [0, 0, 0, 0, 0, 0], 'cooking': [0, 0, 0, 0, 0, 0],\n",
    "                              'lighting': [0, 0, 0, 0, 0, 0], 'other': [0, 0, 0, 0, 0, 0]})"
   ]
  },
  {
   "cell_type": "code",
   "execution_count": 94,
   "metadata": {},
   "outputs": [],
   "source": [
    "final_table_4.loc[0, 'heating'] = el_heating_sum\n",
    "final_table_4.loc[1, 'heating'] = th_heating_sum\n",
    "final_table_4.loc[2, 'heating'] = gas_heating_sum\n",
    "final_table_4.loc[3, 'heating'] = solid_heating_sum\n",
    "final_table_4.loc[4, 'heating'] = oil_heating_sum\n",
    "final_table_4.loc[5, 'heating'] = bio_heating_sum\n",
    "\n",
    "final_table_4.loc[0, 'conditioning'] = el_conditioning_sum\n",
    "\n",
    "final_table_4.loc[0, 'water_heating'] = el_water_heating_sum\n",
    "final_table_4.loc[1, 'water_heating'] = th_water_heating_sum\n",
    "final_table_4.loc[2, 'water_heating'] = gas_water_heating_sum\n",
    "final_table_4.loc[3, 'water_heating'] = solid_water_heating_sum\n",
    "final_table_4.loc[4, 'water_heating'] = oil_water_heating_sum\n",
    "final_table_4.loc[5, 'water_heating'] = bio_water_heating_sum\n",
    "\n",
    "final_table_4.loc[0, 'cooking'] = el_cooking_sum\n",
    "final_table_4.loc[2, 'cooking'] = gas_cooking_sum\n",
    "final_table_4.loc[3, 'cooking'] = solid_cooking_sum\n",
    "final_table_4.loc[4, 'cooking'] = oil_cooking_sum\n",
    "\n",
    "final_table_4.loc[0, 'lighting'] = el_lighting_sum\n",
    "\n",
    "final_table_4.loc[0, 'other'] = el_other_sum"
   ]
  },
  {
   "cell_type": "code",
   "execution_count": 95,
   "metadata": {},
   "outputs": [],
   "source": [
    "final_table_4['total'] = final_table_4.heating + final_table_4.conditioning + final_table_4.water_heating + \\\n",
    "                         final_table_4.cooking + final_table_4.lighting + final_table_4.other"
   ]
  },
  {
   "cell_type": "code",
   "execution_count": 96,
   "metadata": {},
   "outputs": [],
   "source": [
    "final_table_4['category'] = (['electricity', 'thermal_energy', 'gas', 'solid_fuel', 'oil', 'bio_fuel'])\n",
    "\n",
    "final_table_4 = final_table_4.reset_index().set_index('category')\n",
    "\n",
    "final_table_4 = final_table_4.drop(labels='index', axis=1)"
   ]
  },
  {
   "cell_type": "code",
   "execution_count": 97,
   "metadata": {},
   "outputs": [],
   "source": [
    "final_table_4.loc['sum'] = [0, 0, 0, 0, 0, 0, 0]\n",
    "\n",
    "final_table_4.loc['sum', 'heating'] = sum(final_table_4['heating'].values)\n",
    "final_table_4.loc['sum', 'conditioning'] = sum(final_table_4['conditioning'].values)\n",
    "final_table_4.loc['sum', 'water_heating'] = sum(final_table_4['water_heating'].values)\n",
    "final_table_4.loc['sum', 'cooking'] = sum(final_table_4['cooking'].values)\n",
    "final_table_4.loc['sum', 'lighting'] = sum(final_table_4['lighting'].values)\n",
    "final_table_4.loc['sum', 'other'] = sum(final_table_4['other'].values)\n",
    "final_table_4.loc['sum', 'total'] = sum(final_table_4['total'].values)"
   ]
  },
  {
   "cell_type": "code",
   "execution_count": 98,
   "metadata": {},
   "outputs": [],
   "source": [
    "final_village = final_table_4.copy(deep = True)"
   ]
  },
  {
   "cell_type": "code",
   "execution_count": 99,
   "metadata": {},
   "outputs": [],
   "source": [
    "# final_village"
   ]
  },
  {
   "cell_type": "code",
   "execution_count": 100,
   "metadata": {},
   "outputs": [],
   "source": [
    "final_village_1 = final_village.round({'heating':2, 'conditioning':2, 'water_heating':2, 'cooking':2, 'lighting':2,\n",
    "                                       'other': 2, 'total': 2})"
   ]
  },
  {
   "cell_type": "code",
   "execution_count": 101,
   "metadata": {},
   "outputs": [],
   "source": [
    "heating_1 = final_village_1.loc['electricity','heating'] * 100 / final_village_1.loc['electricity','total']\n",
    "heating_2 = final_village_1.loc['thermal_energy','heating'] * 100 / final_village_1.loc['thermal_energy','total']\n",
    "heating_3 = final_village_1.loc['gas','heating'] * 100 / final_village_1.loc['gas','total']\n",
    "heating_4 = final_village_1.loc['solid_fuel','heating'] * 100 / final_village_1.loc['solid_fuel','total']\n",
    "heating_5 = final_village_1.loc['oil','heating'] * 100 / final_village_1.loc['oil','total']\n",
    "heating_6 = final_village_1.loc['bio_fuel','heating'] * 100 / final_village_1.loc['bio_fuel','total']\n",
    "heating_7 = final_village_1.loc['sum','heating'] * 100 / final_village_1.loc['sum','total']\n",
    "\n",
    "conditioning_1 = final_village_1.loc['electricity','conditioning'] * 100 / final_village_1.loc['electricity','total']\n",
    "conditioning_7 = final_village_1.loc['sum','conditioning'] * 100 / final_village_1.loc['sum','total']\n",
    "\n",
    "w_heating_1 = final_village_1.loc['electricity','water_heating'] * 100 / final_village_1.loc['electricity','total']\n",
    "w_heating_2 = final_village_1.loc['thermal_energy','water_heating'] * 100 / final_village_1.loc['thermal_energy','total']\n",
    "w_heating_3 = final_village_1.loc['gas','water_heating'] * 100 / final_village_1.loc['gas','total']\n",
    "w_heating_4 = final_village_1.loc['solid_fuel','water_heating'] * 100 / final_village_1.loc['solid_fuel','total']\n",
    "w_heating_5 = final_village_1.loc['oil','water_heating'] * 100 / final_village_1.loc['oil','total']\n",
    "w_heating_6 = final_village_1.loc['bio_fuel','water_heating'] * 100 / final_village_1.loc['bio_fuel','total']\n",
    "w_heating_7 = final_village_1.loc['sum','water_heating'] * 100 / final_village_1.loc['sum','total']\n",
    "\n",
    "cooking_1 = final_village_1.loc['electricity','cooking'] * 100 / final_village_1.loc['electricity','total']\n",
    "cooking_3 = final_village_1.loc['gas','cooking'] * 100 / final_village_1.loc['gas','total']\n",
    "cooking_4 = final_village_1.loc['solid_fuel','cooking'] * 100 / final_village_1.loc['solid_fuel','total']\n",
    "cooking_5 = final_village_1.loc['oil','cooking'] * 100 / final_village_1.loc['oil','total']\n",
    "cooking_7 = final_village_1.loc['sum','cooking'] * 100 / final_village_1.loc['sum','total']\n",
    "\n",
    "lighting_1 = final_village_1.loc['electricity','lighting'] * 100 / final_village_1.loc['electricity','total']\n",
    "lighting_7 = final_village_1.loc['sum','lighting'] * 100 / final_village_1.loc['sum','total']\n",
    "\n",
    "other_1 = final_village_1.loc['electricity','other'] * 100 / final_village_1.loc['electricity','total']\n",
    "other_7 = final_village_1.loc['sum','other'] * 100 / final_village_1.loc['sum','total']"
   ]
  },
  {
   "cell_type": "code",
   "execution_count": 102,
   "metadata": {},
   "outputs": [],
   "source": [
    "final_village_1.loc['electricity','heating'] = heating_1\n",
    "final_village_1.loc['thermal_energy','heating'] = heating_2\n",
    "final_village_1.loc['gas','heating'] = heating_3\n",
    "final_village_1.loc['solid_fuel','heating'] = heating_4\n",
    "final_village_1.loc['oil','heating'] = heating_5\n",
    "final_village_1.loc['bio_fuel','heating'] = heating_6\n",
    "final_village_1.loc['sum','heating'] = heating_7\n",
    "\n",
    "final_village_1.loc['electricity','conditioning'] = conditioning_1\n",
    "final_village_1.loc['sum','conditioning'] = conditioning_7\n",
    "\n",
    "final_village_1.loc['electricity','water_heating'] = w_heating_1\n",
    "final_village_1.loc['thermal_energy','water_heating'] = w_heating_2\n",
    "final_village_1.loc['gas','water_heating'] = w_heating_3\n",
    "final_village_1.loc['solid_fuel','water_heating'] = w_heating_4\n",
    "final_village_1.loc['oil','water_heating'] = w_heating_5\n",
    "final_village_1.loc['bio_fuel','water_heating'] = w_heating_6\n",
    "final_village_1.loc['sum','water_heating'] = w_heating_7\n",
    "\n",
    "final_village_1.loc['electricity','cooking'] = cooking_1\n",
    "final_village_1.loc['gas','cooking'] = cooking_3\n",
    "final_village_1.loc['solid_fuel','cooking'] = cooking_4\n",
    "final_village_1.loc['oil','cooking'] = cooking_5\n",
    "final_village_1.loc['sum','cooking'] = cooking_7\n",
    "\n",
    "final_village_1.loc['electricity','lighting'] = lighting_1\n",
    "final_village_1.loc['sum','lighting'] = lighting_7\n",
    "\n",
    "final_village_1.loc['electricity','other'] = other_1\n",
    "final_village_1.loc['sum','other'] = other_7"
   ]
  },
  {
   "cell_type": "code",
   "execution_count": 103,
   "metadata": {},
   "outputs": [],
   "source": [
    "final_village_1['total'] = [100, 100, 100, 100, 100, 100, 100]"
   ]
  },
  {
   "cell_type": "code",
   "execution_count": 104,
   "metadata": {},
   "outputs": [],
   "source": [
    "final_village_1 = final_village_1.round({'heating':2, 'conditioning':2, 'water_heating':2, 'cooking':2, 'lighting':2,\n",
    "                                         'other': 2, 'total': 2})"
   ]
  },
  {
   "cell_type": "code",
   "execution_count": 105,
   "metadata": {},
   "outputs": [],
   "source": [
    "# final_village_1"
   ]
  },
  {
   "cell_type": "code",
   "execution_count": 106,
   "metadata": {},
   "outputs": [],
   "source": [
    "# final_city_1.to_excel(\"city_per.xlsx\")\n",
    "# final_village_1.to_excel(\"village_per.xlsx\")"
   ]
  },
  {
   "cell_type": "code",
   "execution_count": 107,
   "metadata": {},
   "outputs": [],
   "source": [
    "# final_city.to_excel(\"city.xlsx\")\n",
    "# final_village.to_excel(\"village.xlsx\")"
   ]
  },
  {
   "cell_type": "code",
   "execution_count": 108,
   "metadata": {},
   "outputs": [],
   "source": [
    "new_category_9 = new_category_6.copy(deep = True)"
   ]
  },
  {
   "cell_type": "code",
   "execution_count": 109,
   "metadata": {},
   "outputs": [],
   "source": [
    "new_category_9.loc[((new_category_9.house_type == 1) | (new_category_9.house_type == 3) | \\\n",
    "                    (new_category_9.house_type == 11) | (new_category_9.house_type == 22) | \\\n",
    "                    ((new_category_9.house_type == 2) & (new_category_9.heating == 1))),'el_heating'] = 0\n",
    "new_category_9.loc[((new_category_9.house_type == 1) | (new_category_9.house_type == 3) | \\\n",
    "                    (new_category_9.house_type == 11) | (new_category_9.house_type == 22) | \\\n",
    "                    ((new_category_9.house_type == 2) & (new_category_9.heating == 1))),'el_conditioning'] = 0\n",
    "new_category_9.loc[((new_category_9.house_type == 1) | (new_category_9.house_type == 3) | \\\n",
    "                    (new_category_9.house_type == 11) | (new_category_9.house_type == 22) | \\\n",
    "                    ((new_category_9.house_type == 2) & (new_category_9.heating == 1))),'el_water_heating'] = 0\n",
    "new_category_9.loc[((new_category_9.house_type == 1) | (new_category_9.house_type == 3) | \\\n",
    "                    (new_category_9.house_type == 11) | (new_category_9.house_type == 22) | \\\n",
    "                    ((new_category_9.house_type == 2) & (new_category_9.heating == 1))),'el_cooking'] = 0\n",
    "new_category_9.loc[((new_category_9.house_type == 1) | (new_category_9.house_type == 3) | \\\n",
    "                    (new_category_9.house_type == 11) | (new_category_9.house_type == 22) | \\\n",
    "                    ((new_category_9.house_type == 2) & (new_category_9.heating == 1))),'el_lighting'] = 0\n",
    "new_category_9.loc[((new_category_9.house_type == 1) | (new_category_9.house_type == 3) | \\\n",
    "                    (new_category_9.house_type == 11) | (new_category_9.house_type == 22) | \\\n",
    "                    ((new_category_9.house_type == 2) & (new_category_9.heating == 1))),'el_other'] = 0\n",
    "new_category_9.loc[((new_category_9.house_type == 1) | (new_category_9.house_type == 3) | \\\n",
    "                    (new_category_9.house_type == 11) | (new_category_9.house_type == 22) | \\\n",
    "                    ((new_category_9.house_type == 2) & (new_category_9.heating == 1))),'th_heating'] = 0\n",
    "new_category_9.loc[((new_category_9.house_type == 1) | (new_category_9.house_type == 3) | \\\n",
    "                    (new_category_9.house_type == 11) | (new_category_9.house_type == 22) | \\\n",
    "                    ((new_category_9.house_type == 2) & (new_category_9.heating == 1))),'th_water_heating'] = 0\n",
    "new_category_9.loc[((new_category_9.house_type == 1) | (new_category_9.house_type == 3) | \\\n",
    "                    (new_category_9.house_type == 11) | (new_category_9.house_type == 22) | \\\n",
    "                    ((new_category_9.house_type == 2) & (new_category_9.heating == 1))),'gas_heating'] = 0\n",
    "new_category_9.loc[((new_category_9.house_type == 1) | (new_category_9.house_type == 3) | \\\n",
    "                    (new_category_9.house_type == 11) | (new_category_9.house_type == 22) | \\\n",
    "                    ((new_category_9.house_type == 2) & (new_category_9.heating == 1))),'gas_water_heating'] = 0\n",
    "new_category_9.loc[((new_category_9.house_type == 1) | (new_category_9.house_type == 3) | \\\n",
    "                    (new_category_9.house_type == 11) | (new_category_9.house_type == 22) | \\\n",
    "                    ((new_category_9.house_type == 2) & (new_category_9.heating == 1))),'gas_cooking'] = 0\n",
    "new_category_9.loc[((new_category_9.house_type == 1) | (new_category_9.house_type == 3) | \\\n",
    "                    (new_category_9.house_type == 11) | (new_category_9.house_type == 22) | \\\n",
    "                    ((new_category_9.house_type == 2) & (new_category_9.heating == 1))),'solid_heating'] = 0\n",
    "new_category_9.loc[((new_category_9.house_type == 1) | (new_category_9.house_type == 3) | \\\n",
    "                    (new_category_9.house_type == 11) | (new_category_9.house_type == 22) | \\\n",
    "                    ((new_category_9.house_type == 2) & (new_category_9.heating == 1))),'solid_water_heating'] = 0\n",
    "new_category_9.loc[((new_category_9.house_type == 1) | (new_category_9.house_type == 3) | \\\n",
    "                    (new_category_9.house_type == 11) | (new_category_9.house_type == 22) | \\\n",
    "                    ((new_category_9.house_type == 2) & (new_category_9.heating == 1))),'solid_cooking'] = 0\n",
    "new_category_9.loc[((new_category_9.house_type == 1) | (new_category_9.house_type == 3) | \\\n",
    "                    (new_category_9.house_type == 11) | (new_category_9.house_type == 22) | \\\n",
    "                    ((new_category_9.house_type == 2) & (new_category_9.heating == 1))),'oil_heating'] = 0\n",
    "new_category_9.loc[((new_category_9.house_type == 1) | (new_category_9.house_type == 3) | \\\n",
    "                    (new_category_9.house_type == 11) | (new_category_9.house_type == 22) | \\\n",
    "                    ((new_category_9.house_type == 2) & (new_category_9.heating == 1))),'oil_water_heating'] = 0\n",
    "new_category_9.loc[((new_category_9.house_type == 1) | (new_category_9.house_type == 3) | \\\n",
    "                    (new_category_9.house_type == 11) | (new_category_9.house_type == 22) | \\\n",
    "                    ((new_category_9.house_type == 2) & (new_category_9.heating == 1))),'oil_cooking'] = 0\n",
    "new_category_9.loc[((new_category_9.house_type == 1) | (new_category_9.house_type == 3) | \\\n",
    "                    (new_category_9.house_type == 11) | (new_category_9.house_type == 22) | \\\n",
    "                    ((new_category_9.house_type == 2) & (new_category_9.heating == 1))),'bio_heating'] = 0\n",
    "new_category_9.loc[((new_category_9.house_type == 1) | (new_category_9.house_type == 3) | \\\n",
    "                    (new_category_9.house_type == 11) | (new_category_9.house_type == 22) | \\\n",
    "                    ((new_category_9.house_type == 2) & (new_category_9.heating == 1))),'bio_water_heating'] = 0"
   ]
  },
  {
   "cell_type": "code",
   "execution_count": 110,
   "metadata": {},
   "outputs": [],
   "source": [
    "el_heating_sum = sum(new_category_9['el_heating'].values[:-1])\n",
    "th_heating_sum = sum(new_category_9['th_heating'].values[:-1])\n",
    "gas_heating_sum = sum(new_category_9['gas_heating'].values[:-1])\n",
    "solid_heating_sum = sum(new_category_9['solid_heating'].values[:-1])\n",
    "oil_heating_sum = sum(new_category_9['oil_heating'].values[:-1])\n",
    "bio_heating_sum = sum(new_category_9['bio_heating'].values[:-1])\n",
    "\n",
    "el_conditioning_sum = sum(new_category_9['el_conditioning'].values[:-1])\n",
    "\n",
    "el_water_heating_sum = sum(new_category_9['el_water_heating'].values[:-1])\n",
    "th_water_heating_sum = sum(new_category_9['th_water_heating'].values[:-1])\n",
    "gas_water_heating_sum = sum(new_category_9['gas_water_heating'].values[:-1])\n",
    "solid_water_heating_sum = sum(new_category_9['solid_water_heating'].values[:-1])\n",
    "oil_water_heating_sum = sum(new_category_9['oil_water_heating'].values[:-1])\n",
    "bio_water_heating_sum = sum(new_category_9['bio_water_heating'].values[:-1])\n",
    "\n",
    "el_cooking_sum = sum(new_category_9['el_cooking'].values[:-1])\n",
    "gas_cooking_sum = sum(new_category_9['gas_cooking'].values[:-1])\n",
    "solid_cooking_sum = sum(new_category_9['solid_cooking'].values[:-1])\n",
    "oil_cooking_sum = sum(new_category_9['oil_cooking'].values[:-1])\n",
    "\n",
    "el_lighting_sum = sum(new_category_9['el_lighting'].values[:-1])\n",
    "\n",
    "el_other_sum = sum(new_category_9['el_other'].values[:-1])"
   ]
  },
  {
   "cell_type": "code",
   "execution_count": 111,
   "metadata": {},
   "outputs": [],
   "source": [
    "final_table_5 = pd.DataFrame({'heating': [0, 0, 0, 0, 0, 0], 'conditioning': [0, 0, 0, 0, 0, 0], \n",
    "                              'water_heating': [0, 0, 0, 0, 0, 0], 'cooking': [0, 0, 0, 0, 0, 0],\n",
    "                              'lighting': [0, 0, 0, 0, 0, 0], 'other': [0, 0, 0, 0, 0, 0]})"
   ]
  },
  {
   "cell_type": "code",
   "execution_count": 112,
   "metadata": {},
   "outputs": [],
   "source": [
    "final_table_5.loc[0, 'heating'] = el_heating_sum\n",
    "final_table_5.loc[1, 'heating'] = th_heating_sum\n",
    "final_table_5.loc[2, 'heating'] = gas_heating_sum\n",
    "final_table_5.loc[3, 'heating'] = solid_heating_sum\n",
    "final_table_5.loc[4, 'heating'] = oil_heating_sum\n",
    "final_table_5.loc[5, 'heating'] = bio_heating_sum\n",
    "\n",
    "final_table_5.loc[0, 'conditioning'] = el_conditioning_sum\n",
    "\n",
    "final_table_5.loc[0, 'water_heating'] = el_water_heating_sum\n",
    "final_table_5.loc[1, 'water_heating'] = th_water_heating_sum\n",
    "final_table_5.loc[2, 'water_heating'] = gas_water_heating_sum\n",
    "final_table_5.loc[3, 'water_heating'] = solid_water_heating_sum\n",
    "final_table_5.loc[4, 'water_heating'] = oil_water_heating_sum\n",
    "final_table_5.loc[5, 'water_heating'] = bio_water_heating_sum\n",
    "\n",
    "final_table_5.loc[0, 'cooking'] = el_cooking_sum\n",
    "final_table_5.loc[2, 'cooking'] = gas_cooking_sum\n",
    "final_table_5.loc[3, 'cooking'] = solid_cooking_sum\n",
    "final_table_5.loc[4, 'cooking'] = oil_cooking_sum\n",
    "\n",
    "final_table_5.loc[0, 'lighting'] = el_lighting_sum\n",
    "\n",
    "final_table_5.loc[0, 'other'] = el_other_sum"
   ]
  },
  {
   "cell_type": "code",
   "execution_count": 113,
   "metadata": {},
   "outputs": [],
   "source": [
    "final_table_5['total'] = final_table_5.heating + final_table_5.conditioning + final_table_5.water_heating + \\\n",
    "                         final_table_5.cooking + final_table_5.lighting + final_table_5.other"
   ]
  },
  {
   "cell_type": "code",
   "execution_count": 114,
   "metadata": {},
   "outputs": [],
   "source": [
    "final_table_5['category'] = (['electricity', 'thermal_energy', 'gas', 'solid_fuel', 'oil', 'bio_fuel'])\n",
    "\n",
    "final_table_5 = final_table_5.reset_index().set_index('category')\n",
    "\n",
    "final_table_5 = final_table_5.drop(labels='index', axis=1)"
   ]
  },
  {
   "cell_type": "code",
   "execution_count": 115,
   "metadata": {},
   "outputs": [],
   "source": [
    "final_table_5.loc['sum'] = [0, 0, 0, 0, 0, 0, 0]\n",
    "\n",
    "final_table_5.loc['sum', 'heating'] = sum(final_table_5['heating'].values)\n",
    "final_table_5.loc['sum', 'conditioning'] = sum(final_table_5['conditioning'].values)\n",
    "final_table_5.loc['sum', 'water_heating'] = sum(final_table_5['water_heating'].values)\n",
    "final_table_5.loc['sum', 'cooking'] = sum(final_table_5['cooking'].values)\n",
    "final_table_5.loc['sum', 'lighting'] = sum(final_table_5['lighting'].values)\n",
    "final_table_5.loc['sum', 'other'] = sum(final_table_5['other'].values)\n",
    "final_table_5.loc['sum', 'total'] = sum(final_table_5['total'].values)"
   ]
  },
  {
   "cell_type": "code",
   "execution_count": 116,
   "metadata": {},
   "outputs": [],
   "source": [
    "final_house = final_table_5.copy(deep = True)"
   ]
  },
  {
   "cell_type": "code",
   "execution_count": 117,
   "metadata": {},
   "outputs": [],
   "source": [
    "# final_house"
   ]
  },
  {
   "cell_type": "code",
   "execution_count": 118,
   "metadata": {},
   "outputs": [],
   "source": [
    "final_house_1 = final_house.round({'heating':2, 'conditioning':2, 'water_heating':2, 'cooking':2, 'lighting':2,\n",
    "                                   'other': 2, 'total': 2})"
   ]
  },
  {
   "cell_type": "code",
   "execution_count": 119,
   "metadata": {},
   "outputs": [],
   "source": [
    "heating_1 = final_house_1.loc['electricity','heating'] * 100 / final_house_1.loc['electricity','total']\n",
    "heating_3 = final_house_1.loc['gas','heating'] * 100 / final_house_1.loc['gas','total']\n",
    "heating_4 = final_house_1.loc['solid_fuel','heating'] * 100 / final_house_1.loc['solid_fuel','total']\n",
    "heating_5 = final_house_1.loc['oil','heating'] * 100 / final_house_1.loc['oil','total']\n",
    "heating_6 = final_house_1.loc['bio_fuel','heating'] * 100 / final_house_1.loc['bio_fuel','total']\n",
    "heating_7 = final_house_1.loc['sum','heating'] * 100 / final_house_1.loc['sum','total']\n",
    "\n",
    "conditioning_1 = final_house_1.loc['electricity','conditioning'] * 100 / final_house_1.loc['electricity','total']\n",
    "conditioning_7 = final_house_1.loc['sum','conditioning'] * 100 / final_house_1.loc['sum','total']\n",
    "\n",
    "w_heating_1 = final_house_1.loc['electricity','water_heating'] * 100 / final_house_1.loc['electricity','total']\n",
    "w_heating_3 = final_house_1.loc['gas','water_heating'] * 100 / final_house_1.loc['gas','total']\n",
    "w_heating_4 = final_house_1.loc['solid_fuel','water_heating'] * 100 / final_house_1.loc['solid_fuel','total']\n",
    "w_heating_5 = final_house_1.loc['oil','water_heating'] * 100 / final_house_1.loc['oil','total']\n",
    "w_heating_6 = final_house_1.loc['bio_fuel','water_heating'] * 100 / final_house_1.loc['bio_fuel','total']\n",
    "w_heating_7 = final_house_1.loc['sum','water_heating'] * 100 / final_house_1.loc['sum','total']\n",
    "\n",
    "cooking_1 = final_house_1.loc['electricity','cooking'] * 100 / final_house_1.loc['electricity','total']\n",
    "cooking_3 = final_house_1.loc['gas','cooking'] * 100 / final_house_1.loc['gas','total']\n",
    "cooking_4 = final_house_1.loc['solid_fuel','cooking'] * 100 / final_house_1.loc['solid_fuel','total']\n",
    "cooking_5 = final_house_1.loc['oil','cooking'] * 100 / final_house_1.loc['oil','total']\n",
    "cooking_7 = final_house_1.loc['sum','cooking'] * 100 / final_house_1.loc['sum','total']\n",
    "\n",
    "lighting_1 = final_house_1.loc['electricity','lighting'] * 100 / final_house_1.loc['electricity','total']\n",
    "lighting_7 = final_house_1.loc['sum','lighting'] * 100 / final_house_1.loc['sum','total']\n",
    "\n",
    "other_1 = final_house_1.loc['electricity','other'] * 100 / final_house_1.loc['electricity','total']\n",
    "other_7 = final_house_1.loc['sum','other'] * 100 / final_house_1.loc['sum','total']"
   ]
  },
  {
   "cell_type": "code",
   "execution_count": 120,
   "metadata": {},
   "outputs": [],
   "source": [
    "final_house_1.loc['electricity','heating'] = heating_1\n",
    "final_house_1.loc['gas','heating'] = heating_3\n",
    "final_house_1.loc['solid_fuel','heating'] = heating_4\n",
    "final_house_1.loc['oil','heating'] = heating_5\n",
    "final_house_1.loc['bio_fuel','heating'] = heating_6\n",
    "final_house_1.loc['sum','heating'] = heating_7\n",
    "\n",
    "final_house_1.loc['electricity','conditioning'] = conditioning_1\n",
    "final_house_1.loc['sum','conditioning'] = conditioning_7\n",
    "\n",
    "final_house_1.loc['electricity','water_heating'] = w_heating_1\n",
    "final_house_1.loc['gas','water_heating'] = w_heating_3\n",
    "final_house_1.loc['solid_fuel','water_heating'] = w_heating_4\n",
    "final_house_1.loc['oil','water_heating'] = w_heating_5\n",
    "final_house_1.loc['bio_fuel','water_heating'] = w_heating_6\n",
    "final_house_1.loc['sum','water_heating'] = w_heating_7\n",
    "\n",
    "final_house_1.loc['electricity','cooking'] = cooking_1\n",
    "final_house_1.loc['gas','cooking'] = cooking_3\n",
    "final_house_1.loc['solid_fuel','cooking'] = cooking_4\n",
    "final_house_1.loc['oil','cooking'] = cooking_5\n",
    "final_house_1.loc['sum','cooking'] = cooking_7\n",
    "\n",
    "final_house_1.loc['electricity','lighting'] = lighting_1\n",
    "final_house_1.loc['sum','lighting'] = lighting_7\n",
    "\n",
    "final_house_1.loc['electricity','other'] = other_1\n",
    "final_house_1.loc['sum','other'] = other_7"
   ]
  },
  {
   "cell_type": "code",
   "execution_count": 121,
   "metadata": {},
   "outputs": [],
   "source": [
    "final_house_1['total'] = [100, 0, 100, 100, 100, 100, 100]"
   ]
  },
  {
   "cell_type": "code",
   "execution_count": 122,
   "metadata": {},
   "outputs": [],
   "source": [
    "final_house_1 = final_house_1.round({'heating':2, 'conditioning':2, 'water_heating':2, 'cooking':2, 'lighting':2,\n",
    "                                     'other': 2, 'total': 2})"
   ]
  },
  {
   "cell_type": "code",
   "execution_count": 123,
   "metadata": {},
   "outputs": [],
   "source": [
    "# final_house_1"
   ]
  },
  {
   "cell_type": "code",
   "execution_count": 124,
   "metadata": {},
   "outputs": [],
   "source": [
    "new_category_10 = new_category_6.copy(deep = True)"
   ]
  },
  {
   "cell_type": "code",
   "execution_count": 125,
   "metadata": {},
   "outputs": [],
   "source": [
    "new_category_10.loc[((new_category_10.house_type == 2) | (new_category_10.house_type == 3) | \\\n",
    "                    (new_category_10.house_type == 11) | (new_category_10.house_type == 22) | \\\n",
    "                    ((new_category_10.house_type == 1) & (new_category_10.heating == 2))),'el_heating'] = 0\n",
    "new_category_10.loc[((new_category_10.house_type == 2) | (new_category_10.house_type == 3) | \\\n",
    "                    (new_category_10.house_type == 11) | (new_category_10.house_type == 22) | \\\n",
    "                    ((new_category_10.house_type == 1) & (new_category_10.heating == 2))),'el_conditioning'] = 0\n",
    "new_category_10.loc[((new_category_10.house_type == 2) | (new_category_10.house_type == 3) | \\\n",
    "                    (new_category_10.house_type == 11) | (new_category_10.house_type == 22) | \\\n",
    "                    ((new_category_10.house_type == 1) & (new_category_10.heating == 2))),'el_water_heating'] = 0\n",
    "new_category_10.loc[((new_category_10.house_type == 2) | (new_category_10.house_type == 3) | \\\n",
    "                    (new_category_10.house_type == 11) | (new_category_10.house_type == 22) | \\\n",
    "                    ((new_category_10.house_type == 1) & (new_category_10.heating == 2))),'el_cooking'] = 0\n",
    "new_category_10.loc[((new_category_10.house_type == 2) | (new_category_10.house_type == 3) | \\\n",
    "                    (new_category_10.house_type == 11) | (new_category_10.house_type == 22) | \\\n",
    "                    ((new_category_10.house_type == 1) & (new_category_10.heating == 2))),'el_lighting'] = 0\n",
    "new_category_10.loc[((new_category_10.house_type == 2) | (new_category_10.house_type == 3) | \\\n",
    "                    (new_category_10.house_type == 11) | (new_category_10.house_type == 22) | \\\n",
    "                    ((new_category_10.house_type == 1) & (new_category_10.heating == 2))),'el_other'] = 0\n",
    "new_category_10.loc[((new_category_10.house_type == 2) | (new_category_10.house_type == 3) | \\\n",
    "                    (new_category_10.house_type == 11) | (new_category_10.house_type == 22) | \\\n",
    "                    ((new_category_10.house_type == 1) & (new_category_10.heating == 2))),'th_heating'] = 0\n",
    "new_category_10.loc[((new_category_10.house_type == 2) | (new_category_10.house_type == 3) | \\\n",
    "                    (new_category_10.house_type == 11) | (new_category_10.house_type == 22) | \\\n",
    "                    ((new_category_10.house_type == 1) & (new_category_10.heating == 2))),'th_water_heating'] = 0\n",
    "new_category_10.loc[((new_category_10.house_type == 2) | (new_category_10.house_type == 3) | \\\n",
    "                    (new_category_10.house_type == 11) | (new_category_10.house_type == 22) | \\\n",
    "                    ((new_category_10.house_type == 1) & (new_category_10.heating == 2))),'gas_heating'] = 0\n",
    "new_category_10.loc[((new_category_10.house_type == 2) | (new_category_10.house_type == 3) | \\\n",
    "                    (new_category_10.house_type == 11) | (new_category_10.house_type == 22) | \\\n",
    "                    ((new_category_10.house_type == 1) & (new_category_10.heating == 2))),'gas_water_heating'] = 0\n",
    "new_category_10.loc[((new_category_10.house_type == 2) | (new_category_10.house_type == 3) | \\\n",
    "                    (new_category_10.house_type == 11) | (new_category_10.house_type == 22) | \\\n",
    "                    ((new_category_10.house_type == 1) & (new_category_10.heating == 2))),'gas_cooking'] = 0\n",
    "new_category_10.loc[((new_category_10.house_type == 2) | (new_category_10.house_type == 3) | \\\n",
    "                    (new_category_10.house_type == 11) | (new_category_10.house_type == 22) | \\\n",
    "                    ((new_category_10.house_type == 1) & (new_category_10.heating == 2))),'solid_heating'] = 0\n",
    "new_category_10.loc[((new_category_10.house_type == 2) | (new_category_10.house_type == 3) | \\\n",
    "                    (new_category_10.house_type == 11) | (new_category_10.house_type == 22) | \\\n",
    "                    ((new_category_10.house_type == 1) & (new_category_10.heating == 2))),'solid_water_heating'] = 0\n",
    "new_category_10.loc[((new_category_10.house_type == 2) | (new_category_10.house_type == 3) | \\\n",
    "                    (new_category_10.house_type == 11) | (new_category_10.house_type == 22) | \\\n",
    "                    ((new_category_10.house_type == 1) & (new_category_10.heating == 2))),'solid_cooking'] = 0\n",
    "new_category_10.loc[((new_category_10.house_type == 2) | (new_category_10.house_type == 3) | \\\n",
    "                    (new_category_10.house_type == 11) | (new_category_10.house_type == 22) | \\\n",
    "                    ((new_category_10.house_type == 1) & (new_category_10.heating == 2))),'oil_heating'] = 0\n",
    "new_category_10.loc[((new_category_10.house_type == 2) | (new_category_10.house_type == 3) | \\\n",
    "                    (new_category_10.house_type == 11) | (new_category_10.house_type == 22) | \\\n",
    "                    ((new_category_10.house_type == 1) & (new_category_10.heating == 2))),'oil_water_heating'] = 0\n",
    "new_category_10.loc[((new_category_10.house_type == 2) | (new_category_10.house_type == 3) | \\\n",
    "                    (new_category_10.house_type == 11) | (new_category_10.house_type == 22) | \\\n",
    "                    ((new_category_10.house_type == 1) & (new_category_10.heating == 2))),'oil_cooking'] = 0\n",
    "new_category_10.loc[((new_category_10.house_type == 2) | (new_category_10.house_type == 3) | \\\n",
    "                    (new_category_10.house_type == 11) | (new_category_10.house_type == 22) | \\\n",
    "                    ((new_category_10.house_type == 1) & (new_category_10.heating == 2))),'bio_heating'] = 0\n",
    "new_category_10.loc[((new_category_10.house_type == 2) | (new_category_10.house_type == 3) | \\\n",
    "                    (new_category_10.house_type == 11) | (new_category_10.house_type == 22) | \\\n",
    "                    ((new_category_10.house_type == 1) & (new_category_10.heating == 2))),'bio_water_heating'] = 0"
   ]
  },
  {
   "cell_type": "code",
   "execution_count": 126,
   "metadata": {},
   "outputs": [],
   "source": [
    "el_heating_sum = sum(new_category_10['el_heating'].values[:-1])\n",
    "th_heating_sum = sum(new_category_10['th_heating'].values[:-1])\n",
    "gas_heating_sum = sum(new_category_10['gas_heating'].values[:-1])\n",
    "solid_heating_sum = sum(new_category_10['solid_heating'].values[:-1])\n",
    "oil_heating_sum = sum(new_category_10['oil_heating'].values[:-1])\n",
    "bio_heating_sum = sum(new_category_10['bio_heating'].values[:-1])\n",
    "\n",
    "el_conditioning_sum = sum(new_category_10['el_conditioning'].values[:-1])\n",
    "\n",
    "el_water_heating_sum = sum(new_category_10['el_water_heating'].values[:-1])\n",
    "th_water_heating_sum = sum(new_category_10['th_water_heating'].values[:-1])\n",
    "gas_water_heating_sum = sum(new_category_10['gas_water_heating'].values[:-1])\n",
    "solid_water_heating_sum = sum(new_category_10['solid_water_heating'].values[:-1])\n",
    "oil_water_heating_sum = sum(new_category_10['oil_water_heating'].values[:-1])\n",
    "bio_water_heating_sum = sum(new_category_10['bio_water_heating'].values[:-1])\n",
    "\n",
    "el_cooking_sum = sum(new_category_10['el_cooking'].values[:-1])\n",
    "gas_cooking_sum = sum(new_category_10['gas_cooking'].values[:-1])\n",
    "solid_cooking_sum = sum(new_category_10['solid_cooking'].values[:-1])\n",
    "oil_cooking_sum = sum(new_category_10['oil_cooking'].values[:-1])\n",
    "\n",
    "el_lighting_sum = sum(new_category_10['el_lighting'].values[:-1])\n",
    "\n",
    "el_other_sum = sum(new_category_10['el_other'].values[:-1])"
   ]
  },
  {
   "cell_type": "code",
   "execution_count": 127,
   "metadata": {},
   "outputs": [],
   "source": [
    "final_table_6 = pd.DataFrame({'heating': [0, 0, 0, 0, 0, 0], 'conditioning': [0, 0, 0, 0, 0, 0], \n",
    "                              'water_heating': [0, 0, 0, 0, 0, 0], 'cooking': [0, 0, 0, 0, 0, 0],\n",
    "                              'lighting': [0, 0, 0, 0, 0, 0], 'other': [0, 0, 0, 0, 0, 0]})"
   ]
  },
  {
   "cell_type": "code",
   "execution_count": 128,
   "metadata": {},
   "outputs": [],
   "source": [
    "final_table_6.loc[0, 'heating'] = el_heating_sum\n",
    "final_table_6.loc[1, 'heating'] = th_heating_sum\n",
    "final_table_6.loc[2, 'heating'] = gas_heating_sum\n",
    "final_table_6.loc[3, 'heating'] = solid_heating_sum\n",
    "final_table_6.loc[4, 'heating'] = oil_heating_sum\n",
    "final_table_6.loc[5, 'heating'] = bio_heating_sum\n",
    "\n",
    "final_table_6.loc[0, 'conditioning'] = el_conditioning_sum\n",
    "\n",
    "final_table_6.loc[0, 'water_heating'] = el_water_heating_sum\n",
    "final_table_6.loc[1, 'water_heating'] = th_water_heating_sum\n",
    "final_table_6.loc[2, 'water_heating'] = gas_water_heating_sum\n",
    "final_table_6.loc[3, 'water_heating'] = solid_water_heating_sum\n",
    "final_table_6.loc[4, 'water_heating'] = oil_water_heating_sum\n",
    "final_table_6.loc[5, 'water_heating'] = bio_water_heating_sum\n",
    "\n",
    "final_table_6.loc[0, 'cooking'] = el_cooking_sum\n",
    "final_table_6.loc[2, 'cooking'] = gas_cooking_sum\n",
    "final_table_6.loc[3, 'cooking'] = solid_cooking_sum\n",
    "final_table_6.loc[4, 'cooking'] = oil_cooking_sum\n",
    "\n",
    "final_table_6.loc[0, 'lighting'] = el_lighting_sum\n",
    "\n",
    "final_table_6.loc[0, 'other'] = el_other_sum"
   ]
  },
  {
   "cell_type": "code",
   "execution_count": 129,
   "metadata": {},
   "outputs": [],
   "source": [
    "final_table_6['total'] = final_table_6.heating + final_table_6.conditioning + final_table_6.water_heating + \\\n",
    "                         final_table_6.cooking + final_table_6.lighting + final_table_6.other"
   ]
  },
  {
   "cell_type": "code",
   "execution_count": 130,
   "metadata": {},
   "outputs": [],
   "source": [
    "final_table_6['category'] = (['electricity', 'thermal_energy', 'gas', 'solid_fuel', 'oil', 'bio_fuel'])\n",
    "\n",
    "final_table_6 = final_table_6.reset_index().set_index('category')\n",
    "\n",
    "final_table_6 = final_table_6.drop(labels='index', axis=1)"
   ]
  },
  {
   "cell_type": "code",
   "execution_count": 131,
   "metadata": {},
   "outputs": [],
   "source": [
    "final_table_6.loc['sum'] = [0, 0, 0, 0, 0, 0, 0]\n",
    "\n",
    "final_table_6.loc['sum', 'heating'] = sum(final_table_6['heating'].values)\n",
    "final_table_6.loc['sum', 'conditioning'] = sum(final_table_6['conditioning'].values)\n",
    "final_table_6.loc['sum', 'water_heating'] = sum(final_table_6['water_heating'].values)\n",
    "final_table_6.loc['sum', 'cooking'] = sum(final_table_6['cooking'].values)\n",
    "final_table_6.loc['sum', 'lighting'] = sum(final_table_6['lighting'].values)\n",
    "final_table_6.loc['sum', 'other'] = sum(final_table_6['other'].values)\n",
    "final_table_6.loc['sum', 'total'] = sum(final_table_6['total'].values)"
   ]
  },
  {
   "cell_type": "code",
   "execution_count": 132,
   "metadata": {},
   "outputs": [],
   "source": [
    "final_flat = final_table_6.copy(deep = True)"
   ]
  },
  {
   "cell_type": "code",
   "execution_count": 133,
   "metadata": {},
   "outputs": [
    {
     "data": {
      "text/html": [
       "<div>\n",
       "<style scoped>\n",
       "    .dataframe tbody tr th:only-of-type {\n",
       "        vertical-align: middle;\n",
       "    }\n",
       "\n",
       "    .dataframe tbody tr th {\n",
       "        vertical-align: top;\n",
       "    }\n",
       "\n",
       "    .dataframe thead th {\n",
       "        text-align: right;\n",
       "    }\n",
       "</style>\n",
       "<table border=\"1\" class=\"dataframe\">\n",
       "  <thead>\n",
       "    <tr style=\"text-align: right;\">\n",
       "      <th></th>\n",
       "      <th>heating</th>\n",
       "      <th>conditioning</th>\n",
       "      <th>water_heating</th>\n",
       "      <th>cooking</th>\n",
       "      <th>lighting</th>\n",
       "      <th>other</th>\n",
       "      <th>total</th>\n",
       "    </tr>\n",
       "    <tr>\n",
       "      <th>category</th>\n",
       "      <th></th>\n",
       "      <th></th>\n",
       "      <th></th>\n",
       "      <th></th>\n",
       "      <th></th>\n",
       "      <th></th>\n",
       "      <th></th>\n",
       "    </tr>\n",
       "  </thead>\n",
       "  <tbody>\n",
       "    <tr>\n",
       "      <th>electricity</th>\n",
       "      <td>0.000</td>\n",
       "      <td>44.722</td>\n",
       "      <td>264.177</td>\n",
       "      <td>153.855</td>\n",
       "      <td>1098.873</td>\n",
       "      <td>4.26</td>\n",
       "      <td>1565.887</td>\n",
       "    </tr>\n",
       "    <tr>\n",
       "      <th>thermal_energy</th>\n",
       "      <td>1508.046</td>\n",
       "      <td>0.000</td>\n",
       "      <td>631.853</td>\n",
       "      <td>0.000</td>\n",
       "      <td>0.000</td>\n",
       "      <td>0.00</td>\n",
       "      <td>2139.899</td>\n",
       "    </tr>\n",
       "    <tr>\n",
       "      <th>gas</th>\n",
       "      <td>0.000</td>\n",
       "      <td>0.000</td>\n",
       "      <td>682.338</td>\n",
       "      <td>1595.866</td>\n",
       "      <td>0.000</td>\n",
       "      <td>0.00</td>\n",
       "      <td>2278.204</td>\n",
       "    </tr>\n",
       "    <tr>\n",
       "      <th>solid_fuel</th>\n",
       "      <td>0.000</td>\n",
       "      <td>0.000</td>\n",
       "      <td>0.000</td>\n",
       "      <td>0.000</td>\n",
       "      <td>0.000</td>\n",
       "      <td>0.00</td>\n",
       "      <td>0.000</td>\n",
       "    </tr>\n",
       "    <tr>\n",
       "      <th>oil</th>\n",
       "      <td>0.000</td>\n",
       "      <td>0.000</td>\n",
       "      <td>4.681</td>\n",
       "      <td>36.840</td>\n",
       "      <td>0.000</td>\n",
       "      <td>0.00</td>\n",
       "      <td>41.521</td>\n",
       "    </tr>\n",
       "    <tr>\n",
       "      <th>bio_fuel</th>\n",
       "      <td>0.000</td>\n",
       "      <td>0.000</td>\n",
       "      <td>0.000</td>\n",
       "      <td>0.000</td>\n",
       "      <td>0.000</td>\n",
       "      <td>0.00</td>\n",
       "      <td>0.000</td>\n",
       "    </tr>\n",
       "    <tr>\n",
       "      <th>sum</th>\n",
       "      <td>1508.046</td>\n",
       "      <td>44.722</td>\n",
       "      <td>1583.049</td>\n",
       "      <td>1786.561</td>\n",
       "      <td>1098.873</td>\n",
       "      <td>4.26</td>\n",
       "      <td>6025.511</td>\n",
       "    </tr>\n",
       "  </tbody>\n",
       "</table>\n",
       "</div>"
      ],
      "text/plain": [
       "                 heating  conditioning  water_heating   cooking  lighting  \\\n",
       "category                                                                    \n",
       "electricity        0.000        44.722        264.177   153.855  1098.873   \n",
       "thermal_energy  1508.046         0.000        631.853     0.000     0.000   \n",
       "gas                0.000         0.000        682.338  1595.866     0.000   \n",
       "solid_fuel         0.000         0.000          0.000     0.000     0.000   \n",
       "oil                0.000         0.000          4.681    36.840     0.000   \n",
       "bio_fuel           0.000         0.000          0.000     0.000     0.000   \n",
       "sum             1508.046        44.722       1583.049  1786.561  1098.873   \n",
       "\n",
       "                other     total  \n",
       "category                         \n",
       "electricity      4.26  1565.887  \n",
       "thermal_energy   0.00  2139.899  \n",
       "gas              0.00  2278.204  \n",
       "solid_fuel       0.00     0.000  \n",
       "oil              0.00    41.521  \n",
       "bio_fuel         0.00     0.000  \n",
       "sum              4.26  6025.511  "
      ]
     },
     "execution_count": 133,
     "metadata": {},
     "output_type": "execute_result"
    }
   ],
   "source": [
    "# final_flat"
   ]
  },
  {
   "cell_type": "code",
   "execution_count": 134,
   "metadata": {},
   "outputs": [],
   "source": [
    "final_flat_1 = final_flat.round({'heating':2, 'conditioning':2, 'water_heating':2, 'cooking':2, 'lighting':2,\n",
    "                                 'other': 2, 'total': 2})"
   ]
  },
  {
   "cell_type": "code",
   "execution_count": 135,
   "metadata": {},
   "outputs": [],
   "source": [
    "heating_1 = final_flat_1.loc['electricity','heating'] * 100 / final_flat_1.loc['electricity','total']\n",
    "heating_2 = final_flat_1.loc['thermal_energy','heating'] * 100 / final_flat_1.loc['thermal_energy','total']\n",
    "heating_3 = final_flat_1.loc['gas','heating'] * 100 / final_flat_1.loc['gas','total']\n",
    "heating_5 = final_flat_1.loc['oil','heating'] * 100 / final_flat_1.loc['oil','total']\n",
    "heating_7 = final_flat_1.loc['sum','heating'] * 100 / final_flat_1.loc['sum','total']\n",
    "\n",
    "conditioning_1 = final_flat_1.loc['electricity','conditioning'] * 100 / final_flat_1.loc['electricity','total']\n",
    "conditioning_7 = final_flat_1.loc['sum','conditioning'] * 100 / final_flat_1.loc['sum','total']\n",
    "\n",
    "w_heating_1 = final_flat_1.loc['electricity','water_heating'] * 100 / final_flat_1.loc['electricity','total']\n",
    "w_heating_2 = final_flat_1.loc['thermal_energy','water_heating'] * 100 / final_flat_1.loc['thermal_energy','total']\n",
    "w_heating_3 = final_flat_1.loc['gas','water_heating'] * 100 / final_flat_1.loc['gas','total']\n",
    "w_heating_5 = final_flat_1.loc['oil','water_heating'] * 100 / final_flat_1.loc['oil','total']\n",
    "w_heating_7 = final_flat_1.loc['sum','water_heating'] * 100 / final_flat_1.loc['sum','total']\n",
    "\n",
    "cooking_1 = final_flat_1.loc['electricity','cooking'] * 100 / final_flat_1.loc['electricity','total']\n",
    "cooking_3 = final_flat_1.loc['gas','cooking'] * 100 / final_flat_1.loc['gas','total']\n",
    "cooking_5 = final_flat_1.loc['oil','cooking'] * 100 / final_flat_1.loc['oil','total']\n",
    "cooking_7 = final_flat_1.loc['sum','cooking'] * 100 / final_flat_1.loc['sum','total']\n",
    "\n",
    "lighting_1 = final_flat_1.loc['electricity','lighting'] * 100 / final_flat_1.loc['electricity','total']\n",
    "lighting_7 = final_flat_1.loc['sum','lighting'] * 100 / final_flat_1.loc['sum','total']\n",
    "\n",
    "other_1 = final_flat_1.loc['electricity','other'] * 100 / final_flat_1.loc['electricity','total']\n",
    "other_7 = final_flat_1.loc['sum','other'] * 100 / final_flat_1.loc['sum','total']"
   ]
  },
  {
   "cell_type": "code",
   "execution_count": 136,
   "metadata": {},
   "outputs": [],
   "source": [
    "final_flat_1.loc['electricity','heating'] = heating_1\n",
    "final_flat_1.loc['thermal_energy','heating'] = heating_2\n",
    "final_flat_1.loc['gas','heating'] = heating_3\n",
    "final_flat_1.loc['oil','heating'] = heating_5\n",
    "final_flat_1.loc['sum','heating'] = heating_7\n",
    "\n",
    "final_flat_1.loc['electricity','conditioning'] = conditioning_1\n",
    "final_flat_1.loc['sum','conditioning'] = conditioning_7\n",
    "\n",
    "final_flat_1.loc['electricity','water_heating'] = w_heating_1\n",
    "final_flat_1.loc['thermal_energy','water_heating'] = w_heating_2\n",
    "final_flat_1.loc['gas','water_heating'] = w_heating_3\n",
    "final_flat_1.loc['oil','water_heating'] = w_heating_5\n",
    "final_flat_1.loc['sum','water_heating'] = w_heating_7\n",
    "\n",
    "final_flat_1.loc['electricity','cooking'] = cooking_1\n",
    "final_flat_1.loc['gas','cooking'] = cooking_3\n",
    "final_flat_1.loc['oil','cooking'] = cooking_5\n",
    "final_flat_1.loc['sum','cooking'] = cooking_7\n",
    "\n",
    "final_flat_1.loc['electricity','lighting'] = lighting_1\n",
    "final_flat_1.loc['sum','lighting'] = lighting_7\n",
    "\n",
    "final_flat_1.loc['electricity','other'] = other_1\n",
    "final_flat_1.loc['sum','other'] = other_7"
   ]
  },
  {
   "cell_type": "code",
   "execution_count": 137,
   "metadata": {},
   "outputs": [],
   "source": [
    "final_flat_1['total'] = [100, 100, 100, 0, 100, 0, 100]"
   ]
  },
  {
   "cell_type": "code",
   "execution_count": 138,
   "metadata": {},
   "outputs": [],
   "source": [
    "final_flat_1 = final_flat_1.round({'heating':2, 'conditioning':2, 'water_heating':2, 'cooking':2, 'lighting':2,\n",
    "                                   'other': 2, 'total': 2})"
   ]
  },
  {
   "cell_type": "code",
   "execution_count": 139,
   "metadata": {},
   "outputs": [],
   "source": [
    "# final_flat_1"
   ]
  },
  {
   "cell_type": "code",
   "execution_count": 140,
   "metadata": {},
   "outputs": [],
   "source": [
    "# final_flat_1.to_excel(\"flat_per.xlsx\")\n",
    "# final_house_1.to_excel(\"house_per.xlsx\")"
   ]
  },
  {
   "cell_type": "code",
   "execution_count": 141,
   "metadata": {},
   "outputs": [],
   "source": [
    "# final_flat.to_excel(\"flat.xlsx\")\n",
    "# final_house.to_excel(\"house.xlsx\")"
   ]
  },
  {
   "cell_type": "code",
   "execution_count": 142,
   "metadata": {},
   "outputs": [],
   "source": [
    "# new_category_6.to_csv(\"iter_approx.csv\", sep = \";\")\n",
    "# new_category_6.to_excel(\"iter_approx.xlsx\", index = False)"
   ]
  },
  {
   "cell_type": "code",
   "execution_count": null,
   "metadata": {},
   "outputs": [],
   "source": []
  }
 ],
 "metadata": {
  "kernelspec": {
   "display_name": "Python 3",
   "language": "python",
   "name": "python3"
  },
  "language_info": {
   "codemirror_mode": {
    "name": "ipython",
    "version": 3
   },
   "file_extension": ".py",
   "mimetype": "text/x-python",
   "name": "python",
   "nbconvert_exporter": "python",
   "pygments_lexer": "ipython3",
   "version": "3.7.6"
  }
 },
 "nbformat": 4,
 "nbformat_minor": 4
}
